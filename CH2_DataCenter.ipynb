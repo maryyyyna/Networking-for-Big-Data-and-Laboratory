{
 "cells": [
  {
   "cell_type": "code",
   "execution_count": 3,
   "id": "16a7fd36",
   "metadata": {},
   "outputs": [],
   "source": [
    "import pandas as pd\n",
    "import numpy as np\n",
    "from joblib import Parallel, delayed\n",
    "import multiprocessing\n",
    "import matplotlib.pyplot as plt\n",
    "import heapq\n",
    "from datetime import datetime, timedelta\n",
    "import csv\n",
    "import itertools"
   ]
  },
  {
   "cell_type": "code",
   "execution_count": 78,
   "id": "fdcbad50",
   "metadata": {},
   "outputs": [],
   "source": [
    "tasks_dataframe = pd.read_csv(r\"C:\\Users\\Marina\\OneDrive\\Desktop\\Cell_a.csv\")"
   ]
  },
  {
   "attachments": {},
   "cell_type": "markdown",
   "id": "dc99046d",
   "metadata": {},
   "source": [
    "# 1. Dataset Analysis ( aggiungere IMA)"
   ]
  },
  {
   "cell_type": "code",
   "execution_count": 79,
   "id": "0a410231",
   "metadata": {},
   "outputs": [
    {
     "data": {
      "text/html": [
       "<div>\n",
       "<style scoped>\n",
       "    .dataframe tbody tr th:only-of-type {\n",
       "        vertical-align: middle;\n",
       "    }\n",
       "\n",
       "    .dataframe tbody tr th {\n",
       "        vertical-align: top;\n",
       "    }\n",
       "\n",
       "    .dataframe thead th {\n",
       "        text-align: right;\n",
       "    }\n",
       "</style>\n",
       "<table border=\"1\" class=\"dataframe\">\n",
       "  <thead>\n",
       "    <tr style=\"text-align: right;\">\n",
       "      <th></th>\n",
       "      <th>Job_ID</th>\n",
       "      <th>Task_ID</th>\n",
       "      <th>Arrival_Time</th>\n",
       "      <th>CPU</th>\n",
       "      <th>Memory</th>\n",
       "    </tr>\n",
       "  </thead>\n",
       "  <tbody>\n",
       "    <tr>\n",
       "      <th>0</th>\n",
       "      <td>375000667413</td>\n",
       "      <td>0</td>\n",
       "      <td>603026300</td>\n",
       "      <td>0.041851</td>\n",
       "      <td>0.001169</td>\n",
       "    </tr>\n",
       "    <tr>\n",
       "      <th>1</th>\n",
       "      <td>375000669289</td>\n",
       "      <td>0</td>\n",
       "      <td>606413041</td>\n",
       "      <td>0.024968</td>\n",
       "      <td>0.001179</td>\n",
       "    </tr>\n",
       "    <tr>\n",
       "      <th>2</th>\n",
       "      <td>375000670586</td>\n",
       "      <td>0</td>\n",
       "      <td>608994453</td>\n",
       "      <td>0.024176</td>\n",
       "      <td>0.001173</td>\n",
       "    </tr>\n",
       "    <tr>\n",
       "      <th>3</th>\n",
       "      <td>375000670588</td>\n",
       "      <td>0</td>\n",
       "      <td>608994466</td>\n",
       "      <td>0.019552</td>\n",
       "      <td>0.001163</td>\n",
       "    </tr>\n",
       "    <tr>\n",
       "      <th>4</th>\n",
       "      <td>375000670590</td>\n",
       "      <td>0</td>\n",
       "      <td>609042903</td>\n",
       "      <td>0.028044</td>\n",
       "      <td>0.001179</td>\n",
       "    </tr>\n",
       "    <tr>\n",
       "      <th>...</th>\n",
       "      <td>...</td>\n",
       "      <td>...</td>\n",
       "      <td>...</td>\n",
       "      <td>...</td>\n",
       "      <td>...</td>\n",
       "    </tr>\n",
       "    <tr>\n",
       "      <th>2329127</th>\n",
       "      <td>400465207745</td>\n",
       "      <td>0</td>\n",
       "      <td>2678935469565</td>\n",
       "      <td>0.004677</td>\n",
       "      <td>0.000067</td>\n",
       "    </tr>\n",
       "    <tr>\n",
       "      <th>2329128</th>\n",
       "      <td>400465219425</td>\n",
       "      <td>0</td>\n",
       "      <td>2678943690687</td>\n",
       "      <td>0.000343</td>\n",
       "      <td>0.000004</td>\n",
       "    </tr>\n",
       "    <tr>\n",
       "      <th>2329129</th>\n",
       "      <td>400465219425</td>\n",
       "      <td>1</td>\n",
       "      <td>2678943690687</td>\n",
       "      <td>0.000557</td>\n",
       "      <td>0.000004</td>\n",
       "    </tr>\n",
       "    <tr>\n",
       "      <th>2329130</th>\n",
       "      <td>400465256347</td>\n",
       "      <td>0</td>\n",
       "      <td>2678955330224</td>\n",
       "      <td>0.002459</td>\n",
       "      <td>0.000050</td>\n",
       "    </tr>\n",
       "    <tr>\n",
       "      <th>2329131</th>\n",
       "      <td>400465256349</td>\n",
       "      <td>0</td>\n",
       "      <td>2678955330235</td>\n",
       "      <td>0.004349</td>\n",
       "      <td>0.000052</td>\n",
       "    </tr>\n",
       "  </tbody>\n",
       "</table>\n",
       "<p>2282872 rows × 5 columns</p>\n",
       "</div>"
      ],
      "text/plain": [
       "               Job_ID  Task_ID   Arrival_Time       CPU    Memory\n",
       "0        375000667413        0      603026300  0.041851  0.001169\n",
       "1        375000669289        0      606413041  0.024968  0.001179\n",
       "2        375000670586        0      608994453  0.024176  0.001173\n",
       "3        375000670588        0      608994466  0.019552  0.001163\n",
       "4        375000670590        0      609042903  0.028044  0.001179\n",
       "...               ...      ...            ...       ...       ...\n",
       "2329127  400465207745        0  2678935469565  0.004677  0.000067\n",
       "2329128  400465219425        0  2678943690687  0.000343  0.000004\n",
       "2329129  400465219425        1  2678943690687  0.000557  0.000004\n",
       "2329130  400465256347        0  2678955330224  0.002459  0.000050\n",
       "2329131  400465256349        0  2678955330235  0.004349  0.000052\n",
       "\n",
       "[2282872 rows x 5 columns]"
      ]
     },
     "execution_count": 79,
     "metadata": {},
     "output_type": "execute_result"
    }
   ],
   "source": [
    "# Removing rows with CPU usage equal to 0 from the dataset\n",
    "cpu_usage = tasks_dataframe['CPU'] > 0\n",
    "tasks_dataframe = tasks_dataframe.drop(tasks_dataframe[~cpu_usage].index)\n",
    "tasks_dataframe"
   ]
  },
  {
   "cell_type": "code",
   "execution_count": 80,
   "id": "d3d928ff",
   "metadata": {},
   "outputs": [],
   "source": [
    "# Converting the Arrival Time column from microseconds to seconds\n",
    "tasks_dataframe['Arrival_Time'] = tasks_dataframe['Arrival_Time'] / 1000000"
   ]
  },
  {
   "cell_type": "code",
   "execution_count": 81,
   "id": "91cad6a4",
   "metadata": {},
   "outputs": [
    {
     "data": {
      "text/html": [
       "<div>\n",
       "<style scoped>\n",
       "    .dataframe tbody tr th:only-of-type {\n",
       "        vertical-align: middle;\n",
       "    }\n",
       "\n",
       "    .dataframe tbody tr th {\n",
       "        vertical-align: top;\n",
       "    }\n",
       "\n",
       "    .dataframe thead th {\n",
       "        text-align: right;\n",
       "    }\n",
       "</style>\n",
       "<table border=\"1\" class=\"dataframe\">\n",
       "  <thead>\n",
       "    <tr style=\"text-align: right;\">\n",
       "      <th></th>\n",
       "      <th>Job_ID</th>\n",
       "      <th>Task_ID</th>\n",
       "      <th>Arrival_Time</th>\n",
       "      <th>CPU</th>\n",
       "      <th>Memory</th>\n",
       "    </tr>\n",
       "  </thead>\n",
       "  <tbody>\n",
       "    <tr>\n",
       "      <th>0</th>\n",
       "      <td>375000667413</td>\n",
       "      <td>0</td>\n",
       "      <td>603.026300</td>\n",
       "      <td>0.041851</td>\n",
       "      <td>0.001169</td>\n",
       "    </tr>\n",
       "    <tr>\n",
       "      <th>1</th>\n",
       "      <td>375000669289</td>\n",
       "      <td>0</td>\n",
       "      <td>606.413041</td>\n",
       "      <td>0.024968</td>\n",
       "      <td>0.001179</td>\n",
       "    </tr>\n",
       "    <tr>\n",
       "      <th>2</th>\n",
       "      <td>375000670586</td>\n",
       "      <td>0</td>\n",
       "      <td>608.994453</td>\n",
       "      <td>0.024176</td>\n",
       "      <td>0.001173</td>\n",
       "    </tr>\n",
       "    <tr>\n",
       "      <th>3</th>\n",
       "      <td>375000670588</td>\n",
       "      <td>0</td>\n",
       "      <td>608.994466</td>\n",
       "      <td>0.019552</td>\n",
       "      <td>0.001163</td>\n",
       "    </tr>\n",
       "    <tr>\n",
       "      <th>4</th>\n",
       "      <td>375000670590</td>\n",
       "      <td>0</td>\n",
       "      <td>609.042903</td>\n",
       "      <td>0.028044</td>\n",
       "      <td>0.001179</td>\n",
       "    </tr>\n",
       "    <tr>\n",
       "      <th>5</th>\n",
       "      <td>375000670901</td>\n",
       "      <td>0</td>\n",
       "      <td>609.794657</td>\n",
       "      <td>0.027910</td>\n",
       "      <td>0.001144</td>\n",
       "    </tr>\n",
       "    <tr>\n",
       "      <th>6</th>\n",
       "      <td>375000670926</td>\n",
       "      <td>0</td>\n",
       "      <td>609.822664</td>\n",
       "      <td>0.030373</td>\n",
       "      <td>0.001137</td>\n",
       "    </tr>\n",
       "    <tr>\n",
       "      <th>7</th>\n",
       "      <td>375000670981</td>\n",
       "      <td>0</td>\n",
       "      <td>610.235344</td>\n",
       "      <td>0.018474</td>\n",
       "      <td>0.001024</td>\n",
       "    </tr>\n",
       "    <tr>\n",
       "      <th>8</th>\n",
       "      <td>375000671303</td>\n",
       "      <td>0</td>\n",
       "      <td>610.982397</td>\n",
       "      <td>0.025027</td>\n",
       "      <td>0.001188</td>\n",
       "    </tr>\n",
       "    <tr>\n",
       "      <th>9</th>\n",
       "      <td>375000671907</td>\n",
       "      <td>0</td>\n",
       "      <td>615.596769</td>\n",
       "      <td>8.744648</td>\n",
       "      <td>0.004997</td>\n",
       "    </tr>\n",
       "  </tbody>\n",
       "</table>\n",
       "</div>"
      ],
      "text/plain": [
       "         Job_ID  Task_ID  Arrival_Time       CPU    Memory\n",
       "0  375000667413        0    603.026300  0.041851  0.001169\n",
       "1  375000669289        0    606.413041  0.024968  0.001179\n",
       "2  375000670586        0    608.994453  0.024176  0.001173\n",
       "3  375000670588        0    608.994466  0.019552  0.001163\n",
       "4  375000670590        0    609.042903  0.028044  0.001179\n",
       "5  375000670901        0    609.794657  0.027910  0.001144\n",
       "6  375000670926        0    609.822664  0.030373  0.001137\n",
       "7  375000670981        0    610.235344  0.018474  0.001024\n",
       "8  375000671303        0    610.982397  0.025027  0.001188\n",
       "9  375000671907        0    615.596769  8.744648  0.004997"
      ]
     },
     "execution_count": 81,
     "metadata": {},
     "output_type": "execute_result"
    }
   ],
   "source": [
    "tasks_dataframe.head(10)"
   ]
  },
  {
   "attachments": {},
   "cell_type": "markdown",
   "id": "ab8a32c5",
   "metadata": {},
   "source": [
    "# 2. Algorithms"
   ]
  },
  {
   "attachments": {},
   "cell_type": "markdown",
   "id": "8b8cc39b",
   "metadata": {},
   "source": [
    "## 2.1 Dispatching Algorithm"
   ]
  },
  {
   "attachments": {},
   "cell_type": "markdown",
   "id": "e3470189",
   "metadata": {},
   "source": [
    "### 2.1.1 LWL (Least Work Left) "
   ]
  },
  {
   "attachments": {},
   "cell_type": "markdown",
   "id": "6a16142f",
   "metadata": {},
   "source": [
    "- Assigns the processing resource to the process or job with the least amount of remaining work, reducing the waiting time for processing and thus the mean job response time.\n",
    "\n",
    "- In LWL scheduling, the system keeps track of the remaining work or workload of each process or job. When a resource becomes available, LWL selects the process or job with the smallest amount of unfinished work and allocates the resource to it. This approach aims to minimize the time required to complete each job and reduce overall response times.\n",
    "\n",
    "- By prioritizing the processes or jobs with less work left, LWL can effectively distribute resources and ensure that jobs are processed more efficiently. This helps to decrease the waiting time for each job, leading to a reduction in the mean job response time."
   ]
  },
  {
   "attachments": {},
   "cell_type": "markdown",
   "id": "a93bd142",
   "metadata": {},
   "source": [
    "### 2.2.2 RR (Round Robin)"
   ]
  },
  {
   "attachments": {},
   "cell_type": "markdown",
   "id": "98ced84d",
   "metadata": {},
   "source": [
    "- Fair treatment of jobs: RR is a policy that provides fair treatment to all jobs by assigning them a sequential execution round. This means that each job will receive a portion of execution time, regardless of the number of tasks it contains. This way, jobs with only one task will not be penalized compared to jobs with a larger number of tasks.\n",
    "\n",
    "- Simplicity and low overhead: RR is a relatively simple dispatching policy to implement and manage. It does not require monitoring the remaining work levels of jobs like LWL, which could introduce some level of complexity and overhead in the system.\n",
    "\n",
    "- Reduced response time for single-task jobs: Given that you have many jobs with only one task, using RR may lead to faster response time for these jobs. Since each job receives a sequential execution round, single-task jobs will be served quickly without having to wait for the completion of other tasks within the same job\n",
    "\n",
    "- An index (rr_server_index) is initialized to keep track of the current server for task assignment.\n",
    "- During the iteration of the task queue (task_queue), the next task is assigned to the server identified by the index rr_server_index % num_servers. - The % operator calculates the remainder of the division between rr_server_index and num_servers, ensuring that the index stays within the valid range of available servers.\n",
    "- After the task is assigned, the rr_server_index is incremented so that the next task is assigned to the next server in the sequence.\n",
    "- The workload (task) is then added to the queue of the corresponding server (servers[server_id].append(task))."
   ]
  },
  {
   "attachments": {},
   "cell_type": "markdown",
   "id": "7e7aebb7",
   "metadata": {},
   "source": [
    "## 2.2 Scheduling Algorithms"
   ]
  },
  {
   "attachments": {},
   "cell_type": "markdown",
   "id": "a8af1e84",
   "metadata": {},
   "source": [
    "Among the two scheduling policies, FCFS (First-Come, First-Served) and SJN (Shortest Job Next), the SJN policy generally tends to minimize the mean job response time compared to FCFS."
   ]
  },
  {
   "attachments": {},
   "cell_type": "markdown",
   "id": "e3c8deb5",
   "metadata": {},
   "source": [
    "### 2.2.1 FCFS"
   ]
  },
  {
   "attachments": {},
   "cell_type": "markdown",
   "id": "0fb804b8",
   "metadata": {},
   "source": [
    "- The FCFS algorithm processes requests based on their arrival order, assigning servers to them sequentially.\n",
    "- Requests are served one after another, without considering their duration or job complexity.\n",
    "- If a long-duration request is processed before a shorter one, the overall response time for requests can increase because the shorter requests have to wait longer."
   ]
  },
  {
   "attachments": {},
   "cell_type": "markdown",
   "id": "7d7a4bb5",
   "metadata": {},
   "source": [
    "### 2.2.2 SJF"
   ]
  },
  {
   "attachments": {},
   "cell_type": "markdown",
   "id": "e97f2d08",
   "metadata": {},
   "source": [
    "- The SJN algorithm prioritizes requests based on their expected or estimated duration.\n",
    "- When a new request arrives, the SJN algorithm selects the request with the shortest duration and processes it first.\n",
    "- This approach reduces the overall response time as shorter requests are served quickly, thus reducing the wait time for other requests.\n",
    "\n",
    "In general, the SJN policy is considered more efficient than FCFS in minimizing the mean job response time since it prioritizes shorter requests that require less processing time. This helps reduce the overall waiting time and improve the average response time for requests."
   ]
  },
  {
   "attachments": {},
   "cell_type": "markdown",
   "id": "77bba1c1",
   "metadata": {},
   "source": [
    "## 3. Unfinished Work"
   ]
  },
  {
   "attachments": {},
   "cell_type": "markdown",
   "id": "60c922cb",
   "metadata": {},
   "source": [
    "$$ U_{n} = max{(0, U_{n−1} − T_{n})} + X_{n}, n ≥ 1 $$\n",
    "where:\n",
    "- U_0 = 0;\n",
    "- T_n is the inter-arrival time between arrival n − 1 and n;\n",
    "- X_n is the service time or the n-th arriving task."
   ]
  },
  {
   "cell_type": "code",
   "execution_count": 4,
   "id": "7377ba81",
   "metadata": {},
   "outputs": [],
   "source": [
    "class Task:\n",
    "    def __init__(self, job_id, task_id, arrival_time, cpu_usage, memory_usage):\n",
    "        self.job_id = job_id\n",
    "        self.task_id = task_id\n",
    "        self.arrival_time = arrival_time\n",
    "        self.cpu_usage = cpu_usage\n",
    "        self.memory_usage = memory_usage\n",
    "        self.completion_time = None\n",
    "        self.service_time = cpu_usage / 0.1\n",
    "\n",
    "    def __lt__(self, other):\n",
    "        # Compare tasks based on remaining service time (for SJF scheduling)\n",
    "        return self.service_time < other.service_time\n",
    "    \n",
    "\n",
    "# Function to simulate baseline (LWL dispatching and FCFS scheduling)\n",
    "def calculate_completion_time_baseline(tasks, num_servers):\n",
    "    # List of servers, each server can have multiple tasks\n",
    "    servers = [[] for _ in range(num_servers)]  \n",
    "    # Utilization for each server\n",
    "    utilization = {}\n",
    "    # Unfinished work for each server\n",
    "    unfinished_work = [0] *  num_servers \n",
    "    # Dictionary to store completion time for each task\n",
    "    task_completion_times = {}  \n",
    "    service_times = {}\n",
    "    message_loads = 0\n",
    "    \n",
    "    for n in range(len(tasks)):\n",
    "        # LWL Dispatching\n",
    "        available_servers = [i for i, server_tasks in enumerate(servers) if not server_tasks]  \n",
    "        if available_servers:\n",
    "            # Choose the first available server\n",
    "            server_id = available_servers[0]  \n",
    "        else:\n",
    "            # Find the server with the least unfinished work\n",
    "            server_id = unfinished_work.index(min(unfinished_work))  \n",
    "        \n",
    "        # Assign the task to the server\n",
    "        servers[server_id].append(tasks[n])\n",
    "\n",
    "        # Increase the message load for each task assignment\n",
    "        message_loads += num_servers  \n",
    "\n",
    "        # Save Utilization for each server      \n",
    "        if server_id in utilization:\n",
    "            utilization[server_id] += tasks[n].service_time\n",
    "        else:\n",
    "            utilization[server_id] = tasks[n].service_time\n",
    "\n",
    "        # FCFS Scheduling\n",
    "        # Calculate completion time for each task\n",
    "        if len(servers[server_id]) >= 2:\n",
    "            inter_arrival_time = servers[server_id][-1].arrival_time - servers[server_id][-2].arrival_time\n",
    "        else:\n",
    "            inter_arrival_time = 0\n",
    "            \n",
    "        unfinished_work[server_id] = max(0, unfinished_work[server_id] - inter_arrival_time) + tasks[n].service_time\n",
    "        \n",
    "        # Save service time and task completion time\n",
    "        if tasks[n].job_id in service_times:\n",
    "            service_times[tasks[n].job_id] += tasks[n].service_time\n",
    "        else:\n",
    "            service_times[tasks[n].job_id] = tasks[n].service_time\n",
    "            \n",
    "        task_completion_times[(tasks[n].job_id, tasks[n].task_id, tasks[n].arrival_time, tasks[n].cpu_usage)] = unfinished_work[server_id]\n",
    "\n",
    "    # Compute average message load    \n",
    "    mean_message_load = message_loads / len(tasks)  \n",
    "    return task_completion_times, service_times, utilization, mean_message_load\n",
    "\n",
    "\n",
    "# Function to simulate RR dispatching and SJF scheduling\n",
    "def calculate_completion_time_our_algorithm(tasks, num_servers):\n",
    "    servers = [[] for _ in range(num_servers)]\n",
    "    unfinished_work = [0] * num_servers\n",
    "    task_completion_times = {}\n",
    "    service_times = {}\n",
    "    message_loads = 0\n",
    "    utilization = {}\n",
    "\n",
    "    # Use a priority queue to order tasks by shortest job next (SJF scheduling)\n",
    "    task_queue = []\n",
    "    for n in range(len(tasks)):\n",
    "        heapq.heappush(task_queue, (tasks[n].arrival_time, tasks[n].service_time, tasks[n]))\n",
    "\n",
    "    # Initialize Round Robin (RR) server index\n",
    "    rr_server_index = 0\n",
    "\n",
    "    while task_queue:\n",
    "        # Get the next task with the shortest remaining service time\n",
    "        _, _, task = heapq.heappop(task_queue)\n",
    "\n",
    "        # Round Robing Dispatching\n",
    "        server_id = rr_server_index % num_servers\n",
    "        rr_server_index += 1\n",
    "        \n",
    "        # Assign the task to the server\n",
    "        servers[server_id].append(task)\n",
    "        \n",
    "        # Increase the message load for each task assignment\n",
    "        message_loads += 1 \n",
    "\n",
    "        # Compute Utilization\n",
    "        if server_id in utilization:\n",
    "            utilization[server_id] += task.service_time\n",
    "        else:\n",
    "            utilization[server_id] = task.service_time\n",
    "\n",
    "        # Calculate completion time for the task\n",
    "        if len(servers[server_id]) >= 2:\n",
    "            inter_arrival_time = servers[server_id][-1].arrival_time - servers[server_id][-2].arrival_time\n",
    "        else:\n",
    "            inter_arrival_time = 0\n",
    "            \n",
    "        unfinished_work[server_id] = max(0, unfinished_work[server_id] - inter_arrival_time) + task.service_time\n",
    "                \n",
    "        # Save service time and task completion time\n",
    "        if task.job_id in service_times:\n",
    "            service_times[task.job_id] += task.service_time\n",
    "        else:\n",
    "            service_times[task.job_id] = task.service_time\n",
    "        \n",
    "        task_completion_times[(task.job_id, task.task_id, task.arrival_time, task.cpu_usage)] = unfinished_work[server_id]\n",
    "        \n",
    "    # Compute average message load\n",
    "    mean_message_load = message_loads / len(tasks)  \n",
    "\n",
    "    return task_completion_times, service_times, utilization, mean_message_load\n"
   ]
  },
  {
   "cell_type": "code",
   "execution_count": 83,
   "id": "2b390890",
   "metadata": {},
   "outputs": [],
   "source": [
    "# Read the dataset and create Task objects\n",
    "tasks = []\n",
    "for index, row in tasks_dataframe.iterrows():\n",
    "    job_id = int(row[0])\n",
    "    task_id = int(row[1])\n",
    "    arrival_time = float(row[2])\n",
    "    cpu_usage = float(row[3])\n",
    "    memory_usage = float(row[4])\n",
    "    \n",
    "    task = Task(job_id, task_id, arrival_time, cpu_usage, memory_usage)\n",
    "    tasks.append(task)\n",
    "\n",
    "        \n",
    "# Number of Servers\n",
    "N = 64\n",
    "\n",
    "# Simulate baseline (LWL dispatching and FCFS scheduling)\n",
    "completion_times_baseline, service_times_baseline, utilization_baseline, mean_message_load_baseline = calculate_completion_time_baseline(tasks, N)\n",
    "\n",
    "# Simulate our algorithm (RR dispatching and SJF scheduling)\n",
    "completion_times_our_algorithm, service_times_our_algorithm, utilization_our_algorithm, mean_message_load_our_algorithm = calculate_completion_time_our_algorithm(tasks, N)\n"
   ]
  },
  {
   "attachments": {},
   "cell_type": "markdown",
   "id": "0a2fa32c",
   "metadata": {},
   "source": [
    "# 3. Metrics"
   ]
  },
  {
   "attachments": {},
   "cell_type": "markdown",
   "id": "e35646b9",
   "metadata": {},
   "source": [
    "## 3.1 Job response time R"
   ]
  },
  {
   "attachments": {},
   "cell_type": "markdown",
   "id": "03e8c2bb",
   "metadata": {},
   "source": [
    "Time elapsing since the arrival of the first arriving task of a job until all tasks belonging to that job\n",
    "have been fully served. The mean job response time R is obtained by averaging response times of all jobs"
   ]
  },
  {
   "cell_type": "code",
   "execution_count": 84,
   "id": "6d4695ce",
   "metadata": {},
   "outputs": [
    {
     "name": "stdout",
     "output_type": "stream",
     "text": [
      "Job Mean Response Time R of the baseline: 199359.82317775284\n",
      "Job Mean Response Time R of our algorithm: 53455.45678045515\n"
     ]
    }
   ],
   "source": [
    "# Job Mean Response Time R of the baseline\n",
    "job_response_times_baseline = {}\n",
    "for (job_id, task_id, arrival_time, cpu_usage), completion_time in completion_times_baseline.items():\n",
    "    if job_id not in job_response_times_baseline:\n",
    "        job_response_times_baseline[job_id] = [completion_time]\n",
    "    else:\n",
    "        job_response_times_baseline[job_id].append(completion_time)\n",
    "        \n",
    "max_times_baseline = {}\n",
    "for job_id in job_response_times_baseline:\n",
    "    max_times_baseline[job_id] =  max(job_response_times_baseline[job_id])\n",
    "    \n",
    "job_mean_response_time_baseline = np.mean(list(max_times_baseline.values()))\n",
    "print(\"Job Mean Response Time R of the baseline:\" , job_mean_response_time_baseline)\n",
    "\n",
    "# Job Mean Response Time R of our algorithm\n",
    "job_response_times_our_algorithm = {}\n",
    "for (job_id, task_id, arrival_time, cpu_usage), completion_time in completion_times_our_algorithm.items():\n",
    "    if job_id not in job_response_times_our_algorithm:\n",
    "        job_response_times_our_algorithm[job_id] = [completion_time]\n",
    "    else:\n",
    "        job_response_times_our_algorithm[job_id].append(completion_time)\n",
    "        \n",
    "max_times_our_algorithm = {}\n",
    "for job_id in job_response_times_our_algorithm:\n",
    "    max_times_our_algorithm[job_id] = max(job_response_times_our_algorithm[job_id])\n",
    "    \n",
    "job_mean_response_time_our_algorithm = np.mean(list(max_times_our_algorithm.values()))\n",
    "print(\"Job Mean Response Time R of our algorithm:\", job_mean_response_time_our_algorithm)"
   ]
  },
  {
   "cell_type": "code",
   "execution_count": 85,
   "id": "d1a9c071",
   "metadata": {},
   "outputs": [
    {
     "name": "stdout",
     "output_type": "stream",
     "text": [
      "Job Mean Response Time R of the baseline: 2 days, 7:22:39.823178\n",
      "Job Mean Response Time R of our algorithm: 14:50:55.456780\n"
     ]
    }
   ],
   "source": [
    "print(\"Job Mean Response Time R of the baseline:\" , timedelta(seconds = job_mean_response_time_baseline))\n",
    "print(\"Job Mean Response Time R of our algorithm:\", timedelta(seconds = job_mean_response_time_our_algorithm))"
   ]
  },
  {
   "attachments": {},
   "cell_type": "markdown",
   "id": "7e0cadf1",
   "metadata": {},
   "source": [
    "## 3.2 Job slowdown S"
   ]
  },
  {
   "attachments": {},
   "cell_type": "markdown",
   "id": "1aa5683c",
   "metadata": {},
   "source": [
    "Ratio of response time of the job to the sum of service times of all tasks belonging to the job. The mean job slowdown S is obtained by averaging slowdown values of all jobs."
   ]
  },
  {
   "cell_type": "code",
   "execution_count": 86,
   "id": "8d010f8a",
   "metadata": {},
   "outputs": [
    {
     "name": "stdout",
     "output_type": "stream",
     "text": [
      "Job Slowdown S of baseline:  13611677.801851703\n",
      "Job Slowdown S of our algorithm:  2421077.2901374013\n"
     ]
    }
   ],
   "source": [
    "# Job slowdown S of the baseline\n",
    "job_slowdown_jobs_baseline = []\n",
    "for job_id, max_time in max_times_baseline.items():\n",
    "    service_time = service_times_baseline.get(job_id)\n",
    "    job_slowdown_jobs_baseline.append(max_time/service_time)\n",
    "\n",
    "job_slowdown_S_baseline = np.mean(job_slowdown_jobs_baseline)\n",
    "print(\"Job Slowdown S of baseline: \", job_slowdown_S_baseline)\n",
    "\n",
    "# Job slowdown S of our algorithm\n",
    "job_slowdown_jobs_our_algorithm = []\n",
    "for job_id, max_time in max_times_our_algorithm.items():\n",
    "    service_time = service_times_our_algorithm.get(job_id)\n",
    "    job_slowdown_jobs_our_algorithm.append(max_time/service_time)\n",
    "\n",
    "job_slowdown_S_our_algorithm= np.mean(job_slowdown_jobs_our_algorithm)\n",
    "print(\"Job Slowdown S of our algorithm: \", job_slowdown_S_our_algorithm)"
   ]
  },
  {
   "cell_type": "code",
   "execution_count": 87,
   "id": "162490ed",
   "metadata": {},
   "outputs": [
    {
     "name": "stdout",
     "output_type": "stream",
     "text": [
      "Job Slowdown S of baseline:  157 days, 13:01:17.801852\n",
      "Job Slowdown S of our algorithm:  28 days, 0:31:17.290137\n"
     ]
    }
   ],
   "source": [
    "print(\"Job Slowdown S of baseline: \", timedelta(seconds = job_slowdown_S_baseline))\n",
    "print(\"Job Slowdown S of our algorithm: \", timedelta(seconds = job_slowdown_S_our_algorithm))"
   ]
  },
  {
   "attachments": {},
   "cell_type": "markdown",
   "id": "5afe0cdc",
   "metadata": {},
   "source": [
    "## 3.3 Utilization coefficient of server  k, ρk "
   ]
  },
  {
   "attachments": {},
   "cell_type": "markdown",
   "id": "41c5800b",
   "metadata": {},
   "source": [
    "Fraction of time that the server k is busy serving tasks. The overall mean utilization coefficient is ρ = (ρ1 + · · · + ρN)/N."
   ]
  },
  {
   "cell_type": "code",
   "execution_count": 88,
   "id": "2a2ce5c6",
   "metadata": {},
   "outputs": [
    {
     "name": "stdout",
     "output_type": "stream",
     "text": [
      "Mean Utilization of the baseline: 1442091.19797647\n",
      "Mean Utilization of our algorithm: 1442091.19797647\n"
     ]
    }
   ],
   "source": [
    "# Utilization coefficient of baseline\n",
    "mean_utilization_baseline = sum(utilization_baseline.values()) / len(utilization_baseline.keys())\n",
    "print(\"Mean Utilization of the baseline:\", mean_utilization_baseline)\n",
    "\n",
    "# Utilization coefficient of our algorithm\n",
    "mean_utilization_our_algorithm= sum(utilization_our_algorithm.values()) / len(utilization_our_algorithm.keys())\n",
    "print(\"Mean Utilization of our algorithm:\", mean_utilization_our_algorithm)"
   ]
  },
  {
   "cell_type": "code",
   "execution_count": 89,
   "id": "fab79e05",
   "metadata": {},
   "outputs": [
    {
     "name": "stdout",
     "output_type": "stream",
     "text": [
      "Mean Utilization of the baseline: 16 days, 16:34:51.197976\n",
      "Mean Utilization of our algorithm: 16 days, 16:34:51.197976\n"
     ]
    }
   ],
   "source": [
    "print(\"Mean Utilization of the baseline:\", timedelta(seconds = mean_utilization_baseline))\n",
    "print(\"Mean Utilization of our algorithm:\", timedelta(seconds = mean_utilization_our_algorithm))"
   ]
  },
  {
   "attachments": {},
   "cell_type": "markdown",
   "id": "14b61f78",
   "metadata": {},
   "source": [
    "## 3.4 Messaging load L"
   ]
  },
  {
   "attachments": {},
   "cell_type": "markdown",
   "id": "c6a96716",
   "metadata": {},
   "source": [
    "Number of messages exchanged between the dispatcher and servers for a given task dispatching. The mean message load L is obtained by averaging message load values of all tasks."
   ]
  },
  {
   "cell_type": "code",
   "execution_count": 90,
   "id": "0326c1f6",
   "metadata": {},
   "outputs": [
    {
     "name": "stdout",
     "output_type": "stream",
     "text": [
      "Mean Message Load of the baselien: 64.0\n",
      "Mean Message Load of our algorithm: 1.0\n"
     ]
    }
   ],
   "source": [
    "print(\"Mean Message Load of the baselien:\", mean_message_load_baseline)\n",
    "print(\"Mean Message Load of our algorithm:\", mean_message_load_our_algorithm)"
   ]
  },
  {
   "attachments": {},
   "cell_type": "markdown",
   "id": "7dd9ccce",
   "metadata": {},
   "source": [
    "# 4 Performance Evaluation"
   ]
  },
  {
   "attachments": {},
   "cell_type": "markdown",
   "id": "309bf089",
   "metadata": {},
   "source": [
    "## 4.1 Complementary Cumulative Distribution Function (eCCDF) "
   ]
  },
  {
   "cell_type": "code",
   "execution_count": 91,
   "id": "d5a2ef30",
   "metadata": {},
   "outputs": [],
   "source": [
    "def indicator(X,t):\n",
    "    if X<=t:\n",
    "        return(1)\n",
    "    else:\n",
    "        return(0)        \n",
    "\n",
    "def eCCDF(X, t):\n",
    "    n=len(X)\n",
    "    return(1-1/(n-1)*np.sum([indicator(i,t) for i in X]))"
   ]
  },
  {
   "cell_type": "code",
   "execution_count": 97,
   "id": "af6ad646",
   "metadata": {},
   "outputs": [
    {
     "data": {
      "image/png": "[encoded data removed]",
      "text/plain": [
       "<Figure size 1080x720 with 1 Axes>"
      ]
     },
     "metadata": {
      "needs_background": "light"
     },
     "output_type": "display_data"
    }
   ],
   "source": [
    "num_cores=multiprocessing.cpu_count() \n",
    "\n",
    "times_plot = [-10**i for i in range(1,6)]+list(np.linspace(0, 10**6/2, 300))\n",
    "emp_response_our_algorithm = Parallel(n_jobs=num_cores)(delayed(eCCDF)( list(max_times_our_algorithm.values()) , i ) for i in times_plot)\n",
    "emp_response_baseline = Parallel(n_jobs=num_cores)(delayed(eCCDF)( list(max_times_baseline.values()) , i ) for i in times_plot)\n",
    "\n",
    "plt.figure(figsize=(15, 10))\n",
    "plt.plot(times_plot, emp_response_baseline, 'r', label='Baseline')\n",
    "plt.plot(times_plot, emp_response_our_algorithm, 'g', label='Our Algorithm')\n",
    "plt.grid()\n",
    "plt.xlabel('t', fontsize = 20)\n",
    "plt.ylabel('eCCDF_R(t)', fontsize = 20)\n",
    "plt.title('Empirical Complementary Cumulative Distribution Function of R', fontsize = 20)\n",
    "plt.legend(fontsize = 20)\n",
    "plt.show()"
   ]
  },
  {
   "cell_type": "code",
   "execution_count": 98,
   "id": "dcc9fa90",
   "metadata": {},
   "outputs": [
    {
     "data": {
      "image/png": "[encoded data removed]",
      "text/plain": [
       "<Figure size 1080x720 with 1 Axes>"
      ]
     },
     "metadata": {
      "needs_background": "light"
     },
     "output_type": "display_data"
    }
   ],
   "source": [
    "times_plot = [-10**i/2 for i in range(3,8)]+list(np.linspace(0, 10**7*2, 300))\n",
    "\n",
    "emp_slowdown_our_algorithm = Parallel(n_jobs=num_cores)(delayed(eCCDF)(job_slowdown_jobs_our_algorithm , i ) for i in times_plot)\n",
    "emp_slowdown_baseline = Parallel(n_jobs=num_cores)(delayed(eCCDF)( job_slowdown_jobs_baseline , i ) for i in times_plot)\n",
    "\n",
    "plt.figure(figsize=(15, 10))\n",
    "plt.plot(times_plot, emp_slowdown_our_algorithm,'g', label='Our Algorithm')\n",
    "plt.plot(times_plot, emp_slowdown_baseline,'r', label='Baseline')\n",
    "plt.grid()\n",
    "plt.xlabel('t', fontsize = 20)\n",
    "plt.ylabel('eCCDF_S(t)', fontsize = 20)\n",
    "plt.title('Empirical Complementary Cumulative Distribution Function of S', fontsize = 20)\n",
    "plt.legend()\n",
    "plt.show()"
   ]
  },
  {
   "attachments": {},
   "cell_type": "markdown",
   "id": "bc7f7e0a",
   "metadata": {},
   "source": [
    "## 4.2 Table with values of ρk, k = 1, . . . , 64"
   ]
  },
  {
   "cell_type": "code",
   "execution_count": 99,
   "id": "10c702d7-e172-48a7-a47d-56971b8fd3ba",
   "metadata": {},
   "outputs": [
    {
     "data": {
      "text/html": [
       "<div>\n",
       "<style scoped>\n",
       "    .dataframe tbody tr th:only-of-type {\n",
       "        vertical-align: middle;\n",
       "    }\n",
       "\n",
       "    .dataframe tbody tr th {\n",
       "        vertical-align: top;\n",
       "    }\n",
       "\n",
       "    .dataframe thead th {\n",
       "        text-align: right;\n",
       "    }\n",
       "</style>\n",
       "<table border=\"1\" class=\"dataframe\">\n",
       "  <thead>\n",
       "    <tr style=\"text-align: right;\">\n",
       "      <th></th>\n",
       "      <th>Server Number</th>\n",
       "      <th>ρ Baseline</th>\n",
       "      <th>ρ SJF</th>\n",
       "    </tr>\n",
       "  </thead>\n",
       "  <tbody>\n",
       "    <tr>\n",
       "      <th>0</th>\n",
       "      <td>0</td>\n",
       "      <td>1.688625e+06</td>\n",
       "      <td>1.354373e+06</td>\n",
       "    </tr>\n",
       "    <tr>\n",
       "      <th>1</th>\n",
       "      <td>1</td>\n",
       "      <td>2.001662e+06</td>\n",
       "      <td>1.335006e+06</td>\n",
       "    </tr>\n",
       "    <tr>\n",
       "      <th>2</th>\n",
       "      <td>2</td>\n",
       "      <td>8.239447e+05</td>\n",
       "      <td>1.405717e+06</td>\n",
       "    </tr>\n",
       "    <tr>\n",
       "      <th>3</th>\n",
       "      <td>3</td>\n",
       "      <td>1.304587e+06</td>\n",
       "      <td>1.623679e+06</td>\n",
       "    </tr>\n",
       "    <tr>\n",
       "      <th>4</th>\n",
       "      <td>4</td>\n",
       "      <td>1.206408e+06</td>\n",
       "      <td>1.561807e+06</td>\n",
       "    </tr>\n",
       "    <tr>\n",
       "      <th>...</th>\n",
       "      <td>...</td>\n",
       "      <td>...</td>\n",
       "      <td>...</td>\n",
       "    </tr>\n",
       "    <tr>\n",
       "      <th>59</th>\n",
       "      <td>59</td>\n",
       "      <td>1.565436e+06</td>\n",
       "      <td>1.464785e+06</td>\n",
       "    </tr>\n",
       "    <tr>\n",
       "      <th>60</th>\n",
       "      <td>60</td>\n",
       "      <td>2.184206e+06</td>\n",
       "      <td>1.510950e+06</td>\n",
       "    </tr>\n",
       "    <tr>\n",
       "      <th>61</th>\n",
       "      <td>61</td>\n",
       "      <td>1.787848e+06</td>\n",
       "      <td>1.158499e+06</td>\n",
       "    </tr>\n",
       "    <tr>\n",
       "      <th>62</th>\n",
       "      <td>62</td>\n",
       "      <td>1.193235e+06</td>\n",
       "      <td>1.391114e+06</td>\n",
       "    </tr>\n",
       "    <tr>\n",
       "      <th>63</th>\n",
       "      <td>63</td>\n",
       "      <td>2.169797e+06</td>\n",
       "      <td>1.312061e+06</td>\n",
       "    </tr>\n",
       "  </tbody>\n",
       "</table>\n",
       "<p>64 rows × 3 columns</p>\n",
       "</div>"
      ],
      "text/plain": [
       "    Server Number    ρ Baseline         ρ SJF\n",
       "0               0  1.688625e+06  1.354373e+06\n",
       "1               1  2.001662e+06  1.335006e+06\n",
       "2               2  8.239447e+05  1.405717e+06\n",
       "3               3  1.304587e+06  1.623679e+06\n",
       "4               4  1.206408e+06  1.561807e+06\n",
       "..            ...           ...           ...\n",
       "59             59  1.565436e+06  1.464785e+06\n",
       "60             60  2.184206e+06  1.510950e+06\n",
       "61             61  1.787848e+06  1.158499e+06\n",
       "62             62  1.193235e+06  1.391114e+06\n",
       "63             63  2.169797e+06  1.312061e+06\n",
       "\n",
       "[64 rows x 3 columns]"
      ]
     },
     "execution_count": 99,
     "metadata": {},
     "output_type": "execute_result"
    }
   ],
   "source": [
    "ρ_k = pd.DataFrame.from_dict({'Server Number': list(range(64)), 'ρ Baseline': utilization_baseline.values(),'ρ SJF': utilization_our_algorithm.values()})\n",
    "ρ_k"
   ]
  },
  {
   "attachments": {},
   "cell_type": "markdown",
   "id": "4f65764e",
   "metadata": {},
   "source": [
    "## 4.3 Comparison between Baseline and Our Algorithm"
   ]
  },
  {
   "cell_type": "code",
   "execution_count": 100,
   "id": "a86db859",
   "metadata": {},
   "outputs": [
    {
     "data": {
      "image/png": "[encoded data removed]",
      "text/plain": [
       "<Figure size 1440x720 with 1 Axes>"
      ]
     },
     "metadata": {
      "needs_background": "light"
     },
     "output_type": "display_data"
    }
   ],
   "source": [
    "baseline = [job_mean_response_time_baseline, job_slowdown_S_baseline, mean_utilization_baseline, mean_message_load_baseline]\n",
    "our_algorithm = [job_mean_response_time_our_algorithm, job_slowdown_S_our_algorithm, mean_utilization_our_algorithm, mean_message_load_our_algorithm]\n",
    "\n",
    "index = np.arange(4)\n",
    "bar_width = 0.35\n",
    "\n",
    "fig, ax = plt.subplots(figsize=(20, 10))\n",
    "baseline = ax.bar(index, baseline, bar_width,\n",
    "                label=\"Baseline (LWL + FCFS)\")\n",
    "\n",
    "our_algorithm = ax.bar(index+bar_width, our_algorithm,\n",
    "                 bar_width, label=\"Our Algorithm (RR + SJF)\")\n",
    "\n",
    "ax.set_xlabel('Metrics', fontsize = 20)\n",
    "ax.set_ylabel('Metrics Value', fontsize = 20)\n",
    "ax.set_title('Comparison of the metrics of two dispatching and scheduling policies', fontsize = 20)\n",
    "ax.set_xticks(index + bar_width / 2)\n",
    "ax.set_xticklabels(['Job Mean Response Time R', 'Job Slowdown S', 'Utilization ρ', 'Mean Message Load L'], fontsize = 20)\n",
    "ax.legend(fontsize = 20)\n",
    "plt.yscale('log')\n",
    "\n",
    "plt.show()"
   ]
  },
  {
   "attachments": {},
   "cell_type": "markdown",
   "id": "cce46f5a",
   "metadata": {},
   "source": [
    "# 4. Example"
   ]
  },
  {
   "cell_type": "code",
   "execution_count": 9,
   "id": "893f19e1",
   "metadata": {},
   "outputs": [
    {
     "name": "stdout",
     "output_type": "stream",
     "text": [
      "Job ID: 0, Task ID: 0, Arrival Time : 0, CPU : 1.5,  Completion Time: 15.0\n",
      "Job ID: 0, Task ID: 1, Arrival Time : 0, CPU : 2.2,  Completion Time: 22.0\n",
      "Job ID: 0, Task ID: 2, Arrival Time : 0, CPU : 2.5,  Completion Time: 40.0\n",
      "Job ID: 1, Task ID: 1, Arrival Time : 3, CPU : 0.8,  Completion Time: 27.0\n",
      "Job ID: 2, Task ID: 0, Arrival Time : 4, CPU : 3.0,  Completion Time: 56.0\n"
     ]
    }
   ],
   "source": [
    "######ESEMPIO######\n",
    "tasks_2 = [Task(0, 0, 0, 1.5, 0.3),\n",
    "         Task(0, 1, 0, 2.2, 0.5),\n",
    "         Task(0, 2, 0, 2.5, 0.5), \n",
    "         Task(1, 1, 3, 0.8, 0.7),\n",
    "         Task(2, 0, 4, 3.0, 0.9)]\n",
    "            \n",
    "    \n",
    "µ = 0.1\n",
    "N = 2\n",
    "completion_times, service_times, utilization, mean_message_load = calculate_completion_time_baseline(tasks_2, N)\n",
    "\n",
    "# Print completion time for each task\n",
    "for (job_id, task_id, arrival_time, cpu_usage), completion_time in completion_times.items():\n",
    "    print(f\"Job ID: {job_id}, Task ID: {task_id}, Arrival Time : {arrival_time}, CPU : {cpu_usage},  Completion Time: {completion_time}\")"
   ]
  },
  {
   "cell_type": "code",
   "execution_count": 10,
   "id": "776b9522",
   "metadata": {},
   "outputs": [
    {
     "name": "stdout",
     "output_type": "stream",
     "text": [
      "Job ID: 0, Task ID: 0, Arrival Time : 0, CPU : 1.5,  Completion Time: 15.0\n",
      "Job ID: 0, Task ID: 1, Arrival Time : 0, CPU : 2.2,  Completion Time: 22.0\n",
      "Job ID: 0, Task ID: 2, Arrival Time : 0, CPU : 2.5,  Completion Time: 40.0\n",
      "Job ID: 1, Task ID: 1, Arrival Time : 3, CPU : 0.8,  Completion Time: 27.0\n",
      "Job ID: 2, Task ID: 0, Arrival Time : 4, CPU : 3.0,  Completion Time: 56.0\n"
     ]
    }
   ],
   "source": [
    "ompletion_times, service_times, utilization, mean_message_load = calculate_completion_time_our_algorithm(tasks_2, N)\n",
    "\n",
    "# Print completion time for each task\n",
    "for (job_id, task_id, arrival_time, cpu_usage), completion_time in completion_times.items():\n",
    "    print(f\"Job ID: {job_id}, Task ID: {task_id}, Arrival Time : {arrival_time}, CPU : {cpu_usage},  Completion Time: {completion_time}\")"
   ]
  },
  {
   "cell_type": "code",
   "execution_count": null,
   "id": "70355b06",
   "metadata": {},
   "outputs": [],
   "source": []
  }
 ],
 "metadata": {
  "kernelspec": {
   "display_name": "Python 3 (ipykernel)",
   "language": "python",
   "name": "python3"
  },
  "language_info": {
   "codemirror_mode": {
    "name": "ipython",
    "version": 3
   },
   "file_extension": ".py",
   "mimetype": "text/x-python",
   "name": "python",
   "nbconvert_exporter": "python",
   "pygments_lexer": "ipython3",
   "version": "3.9.12"
  }
 },
 "nbformat": 4,
 "nbformat_minor": 5
}
