{
 "cells": [
  {
   "cell_type": "code",
   "execution_count": 1,
   "id": "16a7fd36",
   "metadata": {},
   "outputs": [],
   "source": [
    "import pandas as pd\n",
    "import numpy as np"
   ]
  },
  {
   "cell_type": "code",
   "execution_count": 2,
   "id": "fdcbad50",
   "metadata": {},
   "outputs": [],
   "source": [
    "tasks_dataframe = pd.read_csv(r\"C:\\Users\\Marina\\OneDrive\\Desktop\\Cell_a.csv\")"
   ]
  },
  {
   "cell_type": "code",
   "execution_count": 3,
   "id": "0a410231",
   "metadata": {},
   "outputs": [
    {
     "data": {
      "text/html": [
       "<div>\n",
       "<style scoped>\n",
       "    .dataframe tbody tr th:only-of-type {\n",
       "        vertical-align: middle;\n",
       "    }\n",
       "\n",
       "    .dataframe tbody tr th {\n",
       "        vertical-align: top;\n",
       "    }\n",
       "\n",
       "    .dataframe thead th {\n",
       "        text-align: right;\n",
       "    }\n",
       "</style>\n",
       "<table border=\"1\" class=\"dataframe\">\n",
       "  <thead>\n",
       "    <tr style=\"text-align: right;\">\n",
       "      <th></th>\n",
       "      <th>Job_ID</th>\n",
       "      <th>Task_ID</th>\n",
       "      <th>Arrival_Time</th>\n",
       "      <th>CPU</th>\n",
       "      <th>Memory</th>\n",
       "    </tr>\n",
       "  </thead>\n",
       "  <tbody>\n",
       "    <tr>\n",
       "      <th>0</th>\n",
       "      <td>375000667413</td>\n",
       "      <td>0</td>\n",
       "      <td>603026300</td>\n",
       "      <td>0.041851</td>\n",
       "      <td>0.001169</td>\n",
       "    </tr>\n",
       "    <tr>\n",
       "      <th>1</th>\n",
       "      <td>375000669289</td>\n",
       "      <td>0</td>\n",
       "      <td>606413041</td>\n",
       "      <td>0.024968</td>\n",
       "      <td>0.001179</td>\n",
       "    </tr>\n",
       "    <tr>\n",
       "      <th>2</th>\n",
       "      <td>375000670586</td>\n",
       "      <td>0</td>\n",
       "      <td>608994453</td>\n",
       "      <td>0.024176</td>\n",
       "      <td>0.001173</td>\n",
       "    </tr>\n",
       "    <tr>\n",
       "      <th>3</th>\n",
       "      <td>375000670588</td>\n",
       "      <td>0</td>\n",
       "      <td>608994466</td>\n",
       "      <td>0.019552</td>\n",
       "      <td>0.001163</td>\n",
       "    </tr>\n",
       "    <tr>\n",
       "      <th>4</th>\n",
       "      <td>375000670590</td>\n",
       "      <td>0</td>\n",
       "      <td>609042903</td>\n",
       "      <td>0.028044</td>\n",
       "      <td>0.001179</td>\n",
       "    </tr>\n",
       "    <tr>\n",
       "      <th>...</th>\n",
       "      <td>...</td>\n",
       "      <td>...</td>\n",
       "      <td>...</td>\n",
       "      <td>...</td>\n",
       "      <td>...</td>\n",
       "    </tr>\n",
       "    <tr>\n",
       "      <th>2329127</th>\n",
       "      <td>400465207745</td>\n",
       "      <td>0</td>\n",
       "      <td>2678935469565</td>\n",
       "      <td>0.004677</td>\n",
       "      <td>0.000067</td>\n",
       "    </tr>\n",
       "    <tr>\n",
       "      <th>2329128</th>\n",
       "      <td>400465219425</td>\n",
       "      <td>0</td>\n",
       "      <td>2678943690687</td>\n",
       "      <td>0.000343</td>\n",
       "      <td>0.000004</td>\n",
       "    </tr>\n",
       "    <tr>\n",
       "      <th>2329129</th>\n",
       "      <td>400465219425</td>\n",
       "      <td>1</td>\n",
       "      <td>2678943690687</td>\n",
       "      <td>0.000557</td>\n",
       "      <td>0.000004</td>\n",
       "    </tr>\n",
       "    <tr>\n",
       "      <th>2329130</th>\n",
       "      <td>400465256347</td>\n",
       "      <td>0</td>\n",
       "      <td>2678955330224</td>\n",
       "      <td>0.002459</td>\n",
       "      <td>0.000050</td>\n",
       "    </tr>\n",
       "    <tr>\n",
       "      <th>2329131</th>\n",
       "      <td>400465256349</td>\n",
       "      <td>0</td>\n",
       "      <td>2678955330235</td>\n",
       "      <td>0.004349</td>\n",
       "      <td>0.000052</td>\n",
       "    </tr>\n",
       "  </tbody>\n",
       "</table>\n",
       "<p>2282872 rows × 5 columns</p>\n",
       "</div>"
      ],
      "text/plain": [
       "               Job_ID  Task_ID   Arrival_Time       CPU    Memory\n",
       "0        375000667413        0      603026300  0.041851  0.001169\n",
       "1        375000669289        0      606413041  0.024968  0.001179\n",
       "2        375000670586        0      608994453  0.024176  0.001173\n",
       "3        375000670588        0      608994466  0.019552  0.001163\n",
       "4        375000670590        0      609042903  0.028044  0.001179\n",
       "...               ...      ...            ...       ...       ...\n",
       "2329127  400465207745        0  2678935469565  0.004677  0.000067\n",
       "2329128  400465219425        0  2678943690687  0.000343  0.000004\n",
       "2329129  400465219425        1  2678943690687  0.000557  0.000004\n",
       "2329130  400465256347        0  2678955330224  0.002459  0.000050\n",
       "2329131  400465256349        0  2678955330235  0.004349  0.000052\n",
       "\n",
       "[2282872 rows x 5 columns]"
      ]
     },
     "execution_count": 3,
     "metadata": {},
     "output_type": "execute_result"
    }
   ],
   "source": [
    "# Removing rows with CPU usage equal to 0 from the dataset\n",
    "cpu_usage = tasks_dataframe['CPU'] > 0\n",
    "tasks_dataframe = tasks_dataframe.drop(tasks_dataframe[~cpu_usage].index)\n",
    "tasks_dataframe"
   ]
  },
  {
   "cell_type": "code",
   "execution_count": 4,
   "id": "d3d928ff",
   "metadata": {},
   "outputs": [],
   "source": [
    "# Converting the Arrival Time column from microseconds to seconds\n",
    "tasks_dataframe['Arrival_Time'] = tasks_dataframe['Arrival_Time'] / 1000000"
   ]
  },
  {
   "cell_type": "code",
   "execution_count": 50,
   "id": "7377ba81",
   "metadata": {},
   "outputs": [],
   "source": [
    "import csv\n",
    "import itertools\n",
    "\n",
    "class Task:\n",
    "    def __init__(self, job_id, task_id, arrival_time, cpu_usage, memory_usage):\n",
    "        self.job_id = job_id\n",
    "        self.task_id = task_id\n",
    "        self.arrival_time = arrival_time\n",
    "        self.cpu_usage = cpu_usage\n",
    "        self.memory_usage = memory_usage\n",
    "        self.completion_time = None\n",
    "        self.service_time = cpu_usage / 0.1\n",
    "\n",
    "    def __lt__(self, other):\n",
    "        # Compare tasks based on remaining service time\n",
    "        return self.cpu_usage < other.cpu_usage\n",
    "\n",
    "# Function to simulate baseline (LWL dispatching and FCFS scheduling)\n",
    "def calculate_completion_time_baseline(tasks, num_servers):\n",
    "    servers = [[] for _ in range(N)]  # List of servers, each server can have multiple tasks\n",
    "    unfinished_work = [0] *  N # Unfinished work for each server\n",
    "    inter_arrival_times = [0] * len(tasks)\n",
    "    task_completion_times = {}  # Dictionary to store completion time for each task\n",
    "    service_times = []\n",
    "    \n",
    "    for n in range(len(tasks)):\n",
    "        \n",
    "        available_servers = [i for i, server_tasks in enumerate(servers) if not server_tasks]  # Find servers with no tasks\n",
    "        if available_servers:\n",
    "            server_id = available_servers[0]  # Choose the first available server\n",
    "        else:\n",
    "            server_id = unfinished_work.index(min(unfinished_work))  # Find the server with the least unfinished work\n",
    "        \n",
    "        # Assign the task to the server\n",
    "        servers[server_id].append(tasks[n])\n",
    "\n",
    "        # Calculate completion time for the task\n",
    "        inter_arrival_time = tasks[n].arrival_time - inter_arrival_times[n - 1]\n",
    "        inter_arrival_times[n] = tasks[n].arrival_time\n",
    "        unfinished_work[server_id] = max(0, unfinished_work[server_id] - inter_arrival_time) + tasks[n].service_time\n",
    "        service_times.append(tasks[n].service_time)\n",
    "        task_completion_times[(tasks[n].job_id, tasks[n].task_id, tasks[n].arrival_time, tasks[n].cpu_usage)] = tasks[n].arrival_time + unfinished_work[server_id]\n",
    "    \n",
    "    \n",
    "        \n",
    "    return task_completion_times, service_times\n",
    "\n",
    "\n",
    "import heapq\n",
    "\n",
    "# Function to simulate LWS dispatching and JSN scheduling\n",
    "def calculate_completion_time_SJN(tasks, num_servers):\n",
    "    servers = [[] for _ in range(num_servers)]\n",
    "    unfinished_work = [0] * num_servers\n",
    "    inter_arrival_times = [0] * len(tasks)\n",
    "    task_completion_times = {}\n",
    "    service_times = []\n",
    "\n",
    "    # Use a priority queue to order tasks by shortest job next (SJN)\n",
    "    task_queue = []\n",
    "    for n in range(len(tasks)):\n",
    "        heapq.heappush(task_queue, (tasks[n].arrival_time, tasks[n].service_time, tasks[n]))\n",
    "\n",
    "    while task_queue:\n",
    "        # Get the next task with the shortest remaining service time\n",
    "        _, _, task = heapq.heappop(task_queue)\n",
    "\n",
    "        # Find the server with the least unfinished work\n",
    "        server_id = unfinished_work.index(min(unfinished_work))\n",
    "\n",
    "        # Assign the task to the server\n",
    "        servers[server_id].append(tasks[n])\n",
    "\n",
    "        # Calculate completion time for the task\n",
    "        inter_arrival_time = tasks[n].arrival_time - inter_arrival_times[n - 1]\n",
    "        inter_arrival_times[n] = tasks[n].arrival_time\n",
    "        unfinished_work[server_id] = max(0, unfinished_work[server_id] - inter_arrival_time) + tasks[n].service_time\n",
    "        service_times.append(tasks[n].service_time)\n",
    "        task_completion_times[(tasks[n].job_id, tasks[n].task_id, tasks[n].arrival_time, tasks[n].cpu_usage)] = unfinished_work[server_id]\n",
    "\n",
    "    return task_completion_times, service_times\n"
   ]
  },
  {
   "cell_type": "code",
   "execution_count": 51,
   "id": "2b390890",
   "metadata": {},
   "outputs": [],
   "source": [
    "# Read the dataset and create Task objects\n",
    "tasks = []\n",
    "for index, row in tasks_dataframe.iterrows():\n",
    "    job_id = int(row[0])\n",
    "    task_id = int(row[1])\n",
    "    arrival_time = float(row[2])\n",
    "    cpu_usage = float(row[3])\n",
    "    memory_usage = float(row[4])\n",
    "    \n",
    "    task = Task(job_id, task_id, arrival_time, cpu_usage, memory_usage)\n",
    "    tasks.append(task)\n",
    "\n",
    "        \n",
    "# Calculate completion time for each task\n",
    "N = 64\n",
    "\n",
    "# Function to simulate baseline (LWL dispatching and FCFS scheduling)\n",
    "completion_times_baseline, service_times_baseline = calculate_completion_time_baseline(tasks, N)\n",
    "\n",
    "# Function to simulate LWL dispatching and SJN scheduling\n",
    "completion_times_SJN, service_times_SJN = calculate_completion_time_SJN(tasks, N)\n"
   ]
  },
  {
   "cell_type": "code",
   "execution_count": 52,
   "id": "6d4695ce",
   "metadata": {},
   "outputs": [
    {
     "name": "stdout",
     "output_type": "stream",
     "text": [
      "3772276.438344625\n",
      "0.043487548828125\n"
     ]
    }
   ],
   "source": [
    "job_response_times_baseline = {}\n",
    "for (job_id, task_id, arrival_time, cpu_usage), completion_time in completion_times_baseline.items():\n",
    "    if job_id not in job_response_times_baseline:\n",
    "        job_response_times_baseline[job_id] = completion_time\n",
    "    else:\n",
    "        job_response_times_baseline[job_id] += completion_time\n",
    "        \n",
    "job_response_time_baseline = sum(job_response_times_baseline.values())\n",
    "job_mean_response_time_baseline = job_response_time_baseline/len(job_response_times_baseline.values())\n",
    "print(job_mean_response_time_baseline)\n",
    "\n",
    "\n",
    "job_response_times_SJN = {}\n",
    "for (job_id, task_id, arrival_time, cpu_usage), completion_time in completion_times_SJN.items():\n",
    "    if job_id not in job_response_times:\n",
    "        job_response_times_SJN[job_id] = completion_time\n",
    "    else:\n",
    "        job_response_times_SJN[job_id] += completion_time\n",
    "        \n",
    "job_response_time_SJN = sum(job_response_times_SJN.values())\n",
    "job_mean_response_time_SJN = job_response_time_SJN/len(job_response_times_SJN.values())\n",
    "print(job_mean_response_time_SJN)"
   ]
  },
  {
   "cell_type": "code",
   "execution_count": 53,
   "id": "1ca886d9",
   "metadata": {},
   "outputs": [
    {
     "name": "stdout",
     "output_type": "stream",
     "text": [
      "47143.89302399442\n",
      "4.3804470859513806e-07\n"
     ]
    }
   ],
   "source": [
    "job_slowdown_S_baseline = job_response_time_baseline/sum(service_times_baseline)\n",
    "print(job_slowdown_S_baseline)\n",
    "\n",
    "job_slowdown_S_SJN = job_response_time_SJN/sum(service_times_SJN)\n",
    "print(job_slowdown_S_SJN)"
   ]
  },
  {
   "cell_type": "code",
   "execution_count": 55,
   "id": "68b3c7ce",
   "metadata": {},
   "outputs": [
    {
     "name": "stdout",
     "output_type": "stream",
     "text": [
      "46519.07090246972\n",
      " \n",
      "50.038562283242335\n"
     ]
    }
   ],
   "source": [
    "# DA RIVEDERE, probabilmente non è corretta\n",
    "total_simulation_time = 31\n",
    "utilizations_baseline = [service_time / total_simulation_time for service_time in service_times_baseline]\n",
    "mean_utilization_baseline = sum(utilizations_baseline) / 64\n",
    "#display(pd.DataFrame(utilizations_baseline))\n",
    "print(mean_utilization_baseline)\n",
    "\n",
    "print(\" \")\n",
    "\n",
    "total_simulation_time = 31\n",
    "utilizations_SJN = [service_time / total_simulation_time for service_time in service_times_SJN]\n",
    "mean_utilization_SJN = sum(utilizations_SJN) / 64\n",
    "#print(utilizations_SJN)\n",
    "print(mean_utilization_SJN)"
   ]
  },
  {
   "cell_type": "code",
   "execution_count": 57,
   "id": "893f19e1",
   "metadata": {},
   "outputs": [
    {
     "name": "stdout",
     "output_type": "stream",
     "text": [
      "Job ID: 0, Task ID: 0, Arrival Time : 0, CPU : 1.5,  Completion Time: 15.0\n",
      "Job ID: 0, Task ID: 1, Arrival Time : 2, CPU : 2.2,  Completion Time: 24.0\n",
      "Job ID: 1, Task ID: 1, Arrival Time : 3, CPU : 0.8,  Completion Time: 25.0\n",
      "Job ID: 2, Task ID: 0, Arrival Time : 4, CPU : 3.0,  Completion Time: 55.0\n"
     ]
    }
   ],
   "source": [
    "######ESEMPIO######\n",
    "tasks_2 = [Task(0, 0, 0, 1.5, 0.3),\n",
    "         Task(0, 1, 2, 2.2, 0.5),\n",
    "         Task(1, 1, 3, 0.8, 0.7),\n",
    "         Task(2, 0, 4, 3.0, 0.9)]\n",
    "            \n",
    "    \n",
    "µ = 0.1\n",
    "N = 2\n",
    "completion_times, service_times = calculate_completion_time_baseline(tasks_2, N)\n",
    "\n",
    "# Print completion time for each task\n",
    "for (job_id, task_id, arrival_time, cpu_usage), completion_time in completion_times.items():\n",
    "    print(f\"Job ID: {job_id}, Task ID: {task_id}, Arrival Time : {arrival_time}, CPU : {cpu_usage},  Completion Time: {completion_time}\")"
   ]
  },
  {
   "cell_type": "code",
   "execution_count": 58,
   "id": "42eeed84",
   "metadata": {},
   "outputs": [
    {
     "data": {
      "text/plain": [
       "39.666666666666664"
      ]
     },
     "execution_count": 58,
     "metadata": {},
     "output_type": "execute_result"
    }
   ],
   "source": [
    "job_response_times = {}\n",
    "for (job_id, task_id, arrival_time, cpu_usage), completion_time in completion_times.items():\n",
    "    if job_id not in job_response_times:\n",
    "        job_response_times[job_id] = completion_time\n",
    "    else:\n",
    "        job_response_times[job_id] += completion_time\n",
    "        \n",
    "job_response_time = sum(job_response_times.values())\n",
    "job_mean_response_time = job_response_time/len(job_response_times.values())\n",
    "job_mean_response_time"
   ]
  },
  {
   "cell_type": "code",
   "execution_count": 59,
   "id": "eb22b4a2",
   "metadata": {},
   "outputs": [
    {
     "data": {
      "text/plain": [
       "1.5866666666666667"
      ]
     },
     "execution_count": 59,
     "metadata": {},
     "output_type": "execute_result"
    }
   ],
   "source": [
    "job_slowdown_S = job_response_time/sum(service_times)\n",
    "job_slowdown_S"
   ]
  },
  {
   "cell_type": "code",
   "execution_count": null,
   "id": "a55524e3",
   "metadata": {},
   "outputs": [],
   "source": []
  }
 ],
 "metadata": {
  "kernelspec": {
   "display_name": "Python 3 (ipykernel)",
   "language": "python",
   "name": "python3"
  },
  "language_info": {
   "codemirror_mode": {
    "name": "ipython",
    "version": 3
   },
   "file_extension": ".py",
   "mimetype": "text/x-python",
   "name": "python",
   "nbconvert_exporter": "python",
   "pygments_lexer": "ipython3",
   "version": "3.9.12"
  }
 },
 "nbformat": 4,
 "nbformat_minor": 5
}
