{
 "cells": [
  {
   "cell_type": "code",
   "execution_count": 212,
   "id": "0c87c2a4-5bff-4578-bab5-912a03ff3317",
   "metadata": {},
   "outputs": [],
   "source": [
    "import networkx as nx\n",
    "import numpy as np\n",
    "import scipy"
   ]
  },
  {
   "cell_type": "code",
   "execution_count": 177,
   "id": "dceaf1be-07fe-43a9-ba4d-80460be1d794",
   "metadata": {},
   "outputs": [],
   "source": [
    "def g_ER(K,p): #an ars is included with probability p independently of any other arc\n",
    "    G_p = nx.erdos_renyi_graph(K, p)\n",
    "    return(G_p)\n",
    "def g_r(K,r): # K>r>=3 AND Kr is EVEN\n",
    "    G_r = nx.random_regular_graph(r,K)  \n",
    "    return(G_r)"
   ]
  },
  {
   "cell_type": "code",
   "execution_count": 213,
   "id": "dbc60120-2de7-4545-aec2-e5d07e653a8d",
   "metadata": {},
   "outputs": [],
   "source": [
    "def connectivity_irreducible(A):\n",
    "    #A= nx.adjacency_matrix(G).toarray()\n",
    "    n=A.shape[0]\n",
    "    sum_matrix=np.add(np.eye(n),A)\n",
    "    temp_power_A=A\n",
    "    for i in range(1,n-1):\n",
    "        temp_power_A=np.matmul(temp_power_A,A)\n",
    "        sum_matrix=np.add(sum_matrix,temp_power_A)\n",
    "    print(sum_matrix)\n",
    "    eigvals = scipy.linalg.eigvals(sum_matrix)\n",
    "    print(eigvals,'\\n')\n",
    "    if np.all(eigvals > 0):\n",
    "        return(1)\n",
    "    else:\n",
    "        return(0)"
   ]
  },
  {
   "cell_type": "code",
   "execution_count": 234,
   "id": "57a70d27-d8be-47d9-b190-605c8bb69842",
   "metadata": {},
   "outputs": [],
   "source": [
    "def Connectivity_irreducible(A):\n",
    "    #A= nx.adjacency_matrix(G).toarray()\n",
    "    n=A.shape[0]\n",
    "    sum_matrix=np.linalg.matrix_power(np.add(np.eye(n),A),n-1)\n",
    "    \n",
    "    eigvals = np.linalg.eigvals(sum_matrix)\n",
    "    print(eigvals,'\\n')\n",
    "    if np.all(eigvals > 0):\n",
    "        return(1)\n",
    "    else:\n",
    "        return(0)"
   ]
  },
  {
   "cell_type": "code",
   "execution_count": 230,
   "id": "bac31a1d-c2dc-4e2e-a476-98f7117361aa",
   "metadata": {},
   "outputs": [
    {
     "name": "stderr",
     "output_type": "stream",
     "text": [
      "C:\\Users\\Michele\\AppData\\Local\\Temp\\ipykernel_26640\\573968294.py:2: FutureWarning: adjacency_matrix will return a scipy.sparse array instead of a matrix in Networkx 3.0.\n",
      "  Ar=nx.adjacency_matrix(G).toarray()\n"
     ]
    }
   ],
   "source": [
    "G=nx.erdos_renyi_graph(10, 0.8)\n",
    "Ar=nx.adjacency_matrix(G).toarray()"
   ]
  },
  {
   "cell_type": "code",
   "execution_count": 233,
   "id": "e89774c1-970f-4e9d-8372-2847a5e43dd3",
   "metadata": {},
   "outputs": [
    {
     "data": {
      "text/plain": [
       "True"
      ]
     },
     "execution_count": 233,
     "metadata": {},
     "output_type": "execute_result"
    }
   ],
   "source": [
    "nx.is_connected(G)"
   ]
  },
  {
   "cell_type": "code",
   "execution_count": 231,
   "id": "c9aad6c3-05d7-4044-a433-36164ad6237a",
   "metadata": {},
   "outputs": [
    {
     "name": "stdout",
     "output_type": "stream",
     "text": [
      "[ 6.89105823e+07  4.22576271e+03 -2.79875902e+02  1.44630062e+02\n",
      " -7.80148460e+00 -5.40169690e-02  4.02299226e-02  4.49329986e-03\n",
      " -1.44839055e-09  1.00000000e+00] \n",
      "\n"
     ]
    },
    {
     "data": {
      "text/plain": [
       "0"
      ]
     },
     "execution_count": 231,
     "metadata": {},
     "output_type": "execute_result"
    }
   ],
   "source": [
    "Connectivity_irreducible(Ar)"
   ]
  },
  {
   "cell_type": "code",
   "execution_count": 224,
   "id": "338f190e-124d-4c02-894a-8225aefbed6c",
   "metadata": {},
   "outputs": [
    {
     "data": {
      "text/plain": [
       "array([[0, 0, 0, 0],\n",
       "       [0, 0, 0, 1],\n",
       "       [0, 0, 0, 0],\n",
       "       [0, 1, 0, 0]], dtype=int32)"
      ]
     },
     "execution_count": 224,
     "metadata": {},
     "output_type": "execute_result"
    }
   ],
   "source": [
    "Ar\n"
   ]
  },
  {
   "cell_type": "code",
   "execution_count": 221,
   "id": "8494e5c3-01e1-4221-b9d8-3ab2a7b1146b",
   "metadata": {},
   "outputs": [
    {
     "name": "stdout",
     "output_type": "stream",
     "text": [
      "[[1. 0. 0. 0.]\n",
      " [0. 2. 0. 2.]\n",
      " [0. 0. 1. 0.]\n",
      " [0. 2. 0. 2.]]\n",
      "[4.0000000e+00+0.j 4.4408921e-16+0.j 1.0000000e+00+0.j 1.0000000e+00+0.j] \n",
      "\n"
     ]
    },
    {
     "data": {
      "text/plain": [
       "1"
      ]
     },
     "execution_count": 221,
     "metadata": {},
     "output_type": "execute_result"
    }
   ],
   "source": [
    "connectivity_irreducible(Ar)"
   ]
  },
  {
   "cell_type": "code",
   "execution_count": null,
   "id": "67c2d1d3-89e2-42cb-b021-261dc7887b70",
   "metadata": {},
   "outputs": [],
   "source": []
  },
  {
   "cell_type": "code",
   "execution_count": null,
   "id": "b1cc5dc2-45be-48c7-91a9-65f3b5f4d7c2",
   "metadata": {},
   "outputs": [],
   "source": []
  }
 ],
 "metadata": {
  "kernelspec": {
   "display_name": "Python 3 (ipykernel)",
   "language": "python",
   "name": "python3"
  },
  "language_info": {
   "codemirror_mode": {
    "name": "ipython",
    "version": 3
   },
   "file_extension": ".py",
   "mimetype": "text/x-python",
   "name": "python",
   "nbconvert_exporter": "python",
   "pygments_lexer": "ipython3",
   "version": "3.9.13"
  }
 },
 "nbformat": 4,
 "nbformat_minor": 5
}
