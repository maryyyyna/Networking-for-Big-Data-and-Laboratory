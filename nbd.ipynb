{
 "cells": [
  {
   "cell_type": "code",
   "execution_count": 212,
   "id": "0c87c2a4-5bff-4578-bab5-912a03ff3317",
   "metadata": {},
   "outputs": [],
   "source": [
    "import networkx as nx\n",
    "import numpy as np\n",
    "import scipy"
   ]
  },
  {
   "cell_type": "code",
   "execution_count": 177,
   "id": "dceaf1be-07fe-43a9-ba4d-80460be1d794",
   "metadata": {},
   "outputs": [],
   "source": [
    "def g_ER(K,p): #an ars is included with probability p independently of any other arc\n",
    "    G_p = nx.erdos_renyi_graph(K, p)\n",
    "    return(G_p)\n",
    "def g_r(K,r): # K>r>=3 AND Kr is EVEN\n",
    "    G_r = nx.random_regular_graph(r,K)  \n",
    "    return(G_r)"
   ]
  },
  {
   "cell_type": "code",
   "execution_count": 311,
   "id": "57a70d27-d8be-47d9-b190-605c8bb69842",
   "metadata": {},
   "outputs": [],
   "source": [
    "def connectivity_irreducible(G):\n",
    "    A= nx.adjacency_matrix(G).toarray()\n",
    "    n=A.shape[0]\n",
    "    sum_matrix=np.linalg.matrix_power(np.add(np.eye(n),A),n-1)\n",
    "    if np.all(sum_matrix >0): \n",
    "        return(True)\n",
    "    else:\n",
    "        return(False)\n",
    "# REFERENCE ABOUT THE THEORY: \n",
    "# https://math.stackexchange.com/questions/315453/how-does-one-show-a-matrix-is-irreducible-and-reducible\n"
   ]
  },
  {
   "cell_type": "code",
   "execution_count": 274,
   "id": "175c1029-d252-4801-8aaf-f0c9572c1c9d",
   "metadata": {},
   "outputs": [],
   "source": [
    "# Check the connectivity of a given graph using breadth-first search algorithm\n",
    "import queue\n",
    "\n",
    "def BFS(G, root):\n",
    "    distance = {}\n",
    "    parent = {}\n",
    "    for n in G:\n",
    "        distance[n] = float('inf')\n",
    "        parent[n] = []\n",
    "    \n",
    "    Q = queue.Queue()\n",
    "    distance[root] = 0\n",
    "    Q.put(root)\n",
    "    while Q.empty() != True:\n",
    "        current = Q.get()\n",
    "        neighbors = G.neighbors(current)\n",
    "        for n in neighbors:\n",
    "            if distance[n] == float('inf'):\n",
    "                distance[n] = distance[current] + 1\n",
    "                parent[n] = current\n",
    "                Q.put(n)\n",
    "    \n",
    "    return distance\n",
    "\n",
    "\n",
    "def check_connectivity_BFS(G, root): \n",
    "    distance = BFS(G, root)\n",
    "    for node in distance:\n",
    "        # if we find some node distance equal to infinity, it means that the node is not reachable \n",
    "        # so the graph is also not connected\n",
    "        if distance[node] == float('inf'):  \n",
    "            return \"The graph is not connected.\"\n",
    "        \n",
    "    return \"The graph is connected.\""
   ]
  },
  {
   "cell_type": "code",
   "execution_count": 306,
   "id": "bac31a1d-c2dc-4e2e-a476-98f7117361aa",
   "metadata": {},
   "outputs": [],
   "source": [
    "G=nx.erdos_renyi_graph(100, 0.2)"
   ]
  },
  {
   "cell_type": "code",
   "execution_count": 312,
   "id": "c9aad6c3-05d7-4044-a433-36164ad6237a",
   "metadata": {},
   "outputs": [
    {
     "name": "stdout",
     "output_type": "stream",
     "text": [
      "is_connect: True\n",
      "irreducibility: True\n",
      "BFS: The graph is connected.\n"
     ]
    },
    {
     "name": "stderr",
     "output_type": "stream",
     "text": [
      "C:\\Users\\Michele\\AppData\\Local\\Temp\\ipykernel_26640\\3957628656.py:2: FutureWarning: adjacency_matrix will return a scipy.sparse array instead of a matrix in Networkx 3.0.\n",
      "  A= nx.adjacency_matrix(G).toarray()\n"
     ]
    }
   ],
   "source": [
    "print('is_connect:',nx.is_connected(G))\n",
    "print('irreducibility:',connectivity_irreducible(G))\n",
    "print('BFS:',check_connectivity_BFS(G,0))"
   ]
  }
 ],
 "metadata": {
  "kernelspec": {
   "display_name": "Python 3 (ipykernel)",
   "language": "python",
   "name": "python3"
  },
  "language_info": {
   "codemirror_mode": {
    "name": "ipython",
    "version": 3
   },
   "file_extension": ".py",
   "mimetype": "text/x-python",
   "name": "python",
   "nbconvert_exporter": "python",
   "pygments_lexer": "ipython3",
   "version": "3.9.13"
  }
 },
 "nbformat": 4,
 "nbformat_minor": 5
}
