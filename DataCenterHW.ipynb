{
 "cells": [
  {
   "cell_type": "code",
   "execution_count": 11,
   "id": "97fb8ea9",
   "metadata": {},
   "outputs": [],
   "source": [
    "import numpy as np\n",
    "import networkx as nx"
   ]
  },
  {
   "cell_type": "code",
   "execution_count": 12,
   "id": "8c0d1fe1",
   "metadata": {},
   "outputs": [],
   "source": [
    "def generate_pER_random_graphs(K, p): # K number of nodes, p probability of edge creation\n",
    "    return nx.erdos_renyi_graph(K, p) # return a graph with K nodes and edges with a probability of p\n",
    "\n",
    "def generate_random_regular_graphs(r, K): # K number of nodes, dr egree of each node\n",
    "    return nx.random_regular_graph(r, K) # return a graph with K nodes and each node will have exactly r edges"
   ]
  },
  {
   "cell_type": "code",
   "execution_count": 13,
   "id": "3f2c21d5",
   "metadata": {},
   "outputs": [],
   "source": [
    "G1 = generate_pER_random_graphs(10, 0.2)"
   ]
  },
  {
   "cell_type": "code",
   "execution_count": 14,
   "id": "f908fad4",
   "metadata": {},
   "outputs": [],
   "source": [
    "G2 = generate_random_regular_graphs(4, 15)"
   ]
  },
  {
   "cell_type": "code",
   "execution_count": 15,
   "id": "a8ea73a7",
   "metadata": {},
   "outputs": [],
   "source": [
    "# Check the connectivity of a given graph using breadth-first search algorithm\n",
    "import queue\n",
    "\n",
    "def BFS(G, root):\n",
    "    distance = {}\n",
    "    parent = {}\n",
    "    for n in G:\n",
    "        distance[n] = float('inf')\n",
    "        parent[n] = []\n",
    "    \n",
    "    Q = queue.Queue()\n",
    "    distance[root] = 0\n",
    "    Q.put(root)\n",
    "    while Q.empty() != True:\n",
    "        current = Q.get()\n",
    "        neighbors = G.neighbors(current)\n",
    "        for n in neighbors:\n",
    "            if distance[n] == float('inf'):\n",
    "                distance[n] = distance[current] + 1\n",
    "                parent[n] = current\n",
    "                Q.put(n)\n",
    "    \n",
    "    return distance\n",
    "\n",
    "\n",
    "def check_connectivity_BFS(G, root): \n",
    "    distance = BFS(G, root)\n",
    "    for node in distance:\n",
    "        # if we find some node distance equal to infinity, it means that the node is not reachable \n",
    "        # so the graph is also not connected\n",
    "        if distance[node] == float('inf'):  \n",
    "            return \"The graph is not connected.\"\n",
    "        \n",
    "    return \"The graph is connected.\""
   ]
  },
  {
   "cell_type": "code",
   "execution_count": 16,
   "id": "c484c2f8",
   "metadata": {},
   "outputs": [
    {
     "data": {
      "text/plain": [
       "False"
      ]
     },
     "execution_count": 16,
     "metadata": {},
     "output_type": "execute_result"
    }
   ],
   "source": [
    "nx.is_connected(G1)"
   ]
  },
  {
   "cell_type": "code",
   "execution_count": 17,
   "id": "e040f26c",
   "metadata": {},
   "outputs": [
    {
     "data": {
      "text/plain": [
       "'The graph is not connected.'"
      ]
     },
     "execution_count": 17,
     "metadata": {},
     "output_type": "execute_result"
    }
   ],
   "source": [
    "check_connectivity_BFS(G1, 0)"
   ]
  },
  {
   "cell_type": "code",
   "execution_count": 18,
   "id": "98d9ed31",
   "metadata": {},
   "outputs": [
    {
     "data": {
      "text/plain": [
       "True"
      ]
     },
     "execution_count": 18,
     "metadata": {},
     "output_type": "execute_result"
    }
   ],
   "source": [
    "nx.is_connected(G2)"
   ]
  },
  {
   "cell_type": "code",
   "execution_count": 19,
   "id": "a111c2eb",
   "metadata": {},
   "outputs": [
    {
     "data": {
      "text/plain": [
       "'The graph is connected.'"
      ]
     },
     "execution_count": 19,
     "metadata": {},
     "output_type": "execute_result"
    }
   ],
   "source": [
    "check_connectivity_BFS(G2, 0)"
   ]
  },
  {
   "cell_type": "code",
   "execution_count": null,
   "id": "ec15c12a",
   "metadata": {},
   "outputs": [],
   "source": []
  }
 ],
 "metadata": {
  "kernelspec": {
   "display_name": "Python 3 (ipykernel)",
   "language": "python",
   "name": "python3"
  },
  "language_info": {
   "codemirror_mode": {
    "name": "ipython",
    "version": 3
   },
   "file_extension": ".py",
   "mimetype": "text/x-python",
   "name": "python",
   "nbconvert_exporter": "python",
   "pygments_lexer": "ipython3",
   "version": "3.9.12"
  }
 },
 "nbformat": 4,
 "nbformat_minor": 5
}
