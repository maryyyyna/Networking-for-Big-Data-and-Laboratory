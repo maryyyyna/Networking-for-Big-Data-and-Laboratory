{
 "cells": [
  {
   "cell_type": "markdown",
   "id": "aba93094",
   "metadata": {},
   "source": [
    "# Part 1"
   ]
  },
  {
   "cell_type": "markdown",
   "id": "2b5bd5e9",
   "metadata": {},
   "source": [
    "Q1: Use library scripts to generate p-ER random graphs and\n",
    "r-regular random graph. Let K denote the number of nodes."
   ]
  },
  {
   "cell_type": "code",
   "execution_count": 4,
   "id": "6132fa80",
   "metadata": {},
   "outputs": [],
   "source": [
    "import networkx as nx\n",
    "import numpy as np\n",
    "import scipy\n",
    "import matplotlib.pyplot as plt"
   ]
  },
  {
   "cell_type": "code",
   "execution_count": 2,
   "id": "dceaf1be-07fe-43a9-ba4d-80460be1d794",
   "metadata": {},
   "outputs": [],
   "source": [
    "def g_ER(K,p): #an ars is included with probability p independently of any other arc\n",
    "    G_p = nx.erdos_renyi_graph(K, p)\n",
    "    return(G_p)\n",
    "def g_r(K,r): # K>r>=3 AND Kr is EVEN\n",
    "    G_r = nx.random_regular_graph(r,K)  \n",
    "    return(G_r)"
   ]
  },
  {
   "cell_type": "markdown",
   "id": "a9a47d5f",
   "metadata": {},
   "source": [
    "Q2: Write a script to check the connectivity of a given graph."
   ]
  },
  {
   "cell_type": "markdown",
   "id": "d4c4b8b3",
   "metadata": {},
   "source": [
    "1. Algebraic method 1 (irreducibility)"
   ]
  },
  {
   "cell_type": "code",
   "execution_count": 3,
   "id": "57a70d27-d8be-47d9-b190-605c8bb69842",
   "metadata": {},
   "outputs": [],
   "source": [
    "def connectivity_irreducible(G):\n",
    "    A= nx.adjacency_matrix(G).toarray()\n",
    "    n=A.shape[0]\n",
    "    sum_matrix=np.linalg.matrix_power(np.add(np.eye(n),A),n-1)\n",
    "    if np.all(sum_matrix >0): \n",
    "        return(True)\n",
    "    else:\n",
    "        return(False)\n",
    "# REFERENCE ABOUT THE THEORY: \n",
    "# https://math.stackexchange.com/questions/315453/how-does-one-show-a-matrix-is-irreducible-and-reducible\n"
   ]
  },
  {
   "cell_type": "markdown",
   "id": "dfa97398",
   "metadata": {},
   "source": [
    "2. Algebraic method 2 (eigenvalue of the Laplacian matrix)"
   ]
  },
  {
   "cell_type": "code",
   "execution_count": null,
   "id": "99ae0573",
   "metadata": {},
   "outputs": [],
   "source": []
  },
  {
   "cell_type": "markdown",
   "id": "ad952f25",
   "metadata": {},
   "source": [
    "3. Breadth-first search algorithm"
   ]
  },
  {
   "cell_type": "code",
   "execution_count": 4,
   "id": "175c1029-d252-4801-8aaf-f0c9572c1c9d",
   "metadata": {},
   "outputs": [],
   "source": [
    "# Check the connectivity of a given graph using breadth-first search algorithm\n",
    "import queue\n",
    "\n",
    "def BFS(G, root):\n",
    "    distance = {}\n",
    "    parent = {}\n",
    "    for n in G:\n",
    "        distance[n] = float('inf')\n",
    "        parent[n] = []\n",
    "    \n",
    "    Q = queue.Queue()\n",
    "    distance[root] = 0\n",
    "    Q.put(root)\n",
    "    while Q.empty() != True:\n",
    "        current = Q.get()\n",
    "        neighbors = G.neighbors(current)\n",
    "        for n in neighbors:\n",
    "            if distance[n] == float('inf'):\n",
    "                distance[n] = distance[current] + 1\n",
    "                parent[n] = current\n",
    "                Q.put(n)\n",
    "    \n",
    "    return distance\n",
    "\n",
    "\n",
    "def check_connectivity_BFS(G, root): \n",
    "    distance = BFS(G, root)\n",
    "    for node in distance:\n",
    "        # if we find some node distance equal to infinity, it means that the node is not reachable \n",
    "        # so the graph is also not connected\n",
    "        if distance[node] == float('inf'):  \n",
    "            return \"The graph is not connected.\"\n",
    "        \n",
    "    return \"The graph is connected.\""
   ]
  },
  {
   "cell_type": "code",
   "execution_count": 5,
   "id": "bac31a1d-c2dc-4e2e-a476-98f7117361aa",
   "metadata": {},
   "outputs": [],
   "source": [
    "G=nx.erdos_renyi_graph(100, 0.2)"
   ]
  },
  {
   "cell_type": "code",
   "execution_count": 6,
   "id": "c9aad6c3-05d7-4044-a433-36164ad6237a",
   "metadata": {},
   "outputs": [
    {
     "name": "stdout",
     "output_type": "stream",
     "text": [
      "is_connect: True\n",
      "irreducibility: True\n",
      "BFS: The graph is connected.\n"
     ]
    },
    {
     "name": "stderr",
     "output_type": "stream",
     "text": [
      "C:\\Users\\Michele\\AppData\\Local\\Temp\\ipykernel_28900\\3957628656.py:2: FutureWarning: adjacency_matrix will return a scipy.sparse array instead of a matrix in Networkx 3.0.\n",
      "  A= nx.adjacency_matrix(G).toarray()\n"
     ]
    }
   ],
   "source": [
    "print('is_connect:',nx.is_connected(G))\n",
    "print('irreducibility:',connectivity_irreducible(G))\n",
    "print('BFS:',check_connectivity_BFS(G,0))"
   ]
  },
  {
   "cell_type": "code",
   "execution_count": null,
   "id": "249fe49e",
   "metadata": {},
   "outputs": [],
   "source": []
  },
  {
   "cell_type": "markdown",
   "id": "f8918330",
   "metadata": {},
   "source": [
    "Q3: Compare the complexity as a function of K of the methods\n",
    "above by plotting curves of a complexity measure vs K."
   ]
  },
  {
   "cell_type": "markdown",
   "id": "55b5f464",
   "metadata": {},
   "source": [
    "Q4: Let pc (G) denote the probability that a graph G is connected.\n",
    "By running Monte Carlo simulations, estimate pc (G) and\n",
    "produce two curve plots:\n",
    "- pc (G) vs. p for Erd˝os-R´enyi graphs with K = 100;\n",
    "- pc (G) vs. K, for K ≤ 100, for r-regular random graphs with r = 2 and r = 8.\n"
   ]
  },
  {
   "cell_type": "code",
   "execution_count": 7,
   "id": "744596c4-f7b8-4d4f-96ab-8fc78a3e52ea",
   "metadata": {},
   "outputs": [],
   "source": [
    "def MonteCarlo_ER(sim_tot,sim_p):\n",
    "    K=100\n",
    "    data=list()\n",
    "    #sim_tot=10**2\n",
    "    for j in range(sim_tot):\n",
    "        p=np.random.uniform(0,1)\n",
    "        Result_sim=list()\n",
    "        #sim_p=10**3\n",
    "        for i in range(sim_p):\n",
    "            G=g_ER(K,p)\n",
    "            Result_sim.append(nx.is_connected(G)) #to change in case our functions are faster\n",
    "        data.append((p,np.mean(Result_sim),np.std(Result_sim)))\n",
    "    data=sorted(data, key=lambda x: x[0])\n",
    "    return(data)\n",
    "#######################################################\n",
    "def MonteCarlo_r(r,sim_tot,sim_K):\n",
    "    data=list()\n",
    "    for j in range(sim_tot):\n",
    "        K=np.random.randint(r+1,101)\n",
    "        Result_sim=list()\n",
    "        for i in range(sim_K):\n",
    "            G=g_r(K,r)\n",
    "            Result_sim.append(nx.is_connected(G)) #to change in case our functions are faster\n",
    "        data.append((K,np.mean(Result_sim),np.std(Result_sim)))\n",
    "    data=sorted(data, key=lambda x: x[0]) \n",
    "    return(data)\n"
   ]
  },
  {
   "cell_type": "code",
   "execution_count": 8,
   "id": "6f9b89cf-c273-40ea-9624-9763f8151a84",
   "metadata": {},
   "outputs": [
    {
     "data": {
      "text/plain": [
       "[<matplotlib.lines.Line2D at 0x1898a0db250>]"
      ]
     },
     "execution_count": 8,
     "metadata": {},
     "output_type": "execute_result"
    },
    {
     "data": {
      "image/png": "[encoded data removed]",
      "text/plain": [
       "<Figure size 640x480 with 1 Axes>"
      ]
     },
     "metadata": {},
     "output_type": "display_data"
    }
   ],
   "source": [
    "data_ER=MonteCarlo_ER(10,1000)\n",
    "x_ER=[i[0] for i in data_ER]\n",
    "y_ER=[i[1] for i in data_ER]\n",
    "plt.plot(x_ER,y_ER)"
   ]
  },
  {
   "cell_type": "code",
   "execution_count": 9,
   "id": "69a4274b-900a-4c07-a3a2-90424997a4c4",
   "metadata": {},
   "outputs": [
    {
     "data": {
      "image/png": "[encoded data removed]",
      "text/plain": [
       "<Figure size 640x480 with 1 Axes>"
      ]
     },
     "metadata": {},
     "output_type": "display_data"
    }
   ],
   "source": [
    "data_r2=MonteCarlo_r(2,10,1000)\n",
    "x_r2=[i[0] for i in data_r2]\n",
    "y_r2=[i[1] for i in data_r2]\n",
    "##############################\n",
    "data_r8=MonteCarlo_r(8,10,1000)\n",
    "x_r8=[i[0] for i in data_r8]\n",
    "y_r8=[i[1] for i in data_r8]\n",
    "\n",
    "plt.plot(x_r2,y_r2,'r',label='r=2')\n",
    "plt.plot(x_r8,y_r8,'g',label='r=8')\n",
    "plt.legend()\n",
    "plt.show()"
   ]
  },
  {
   "cell_type": "markdown",
   "id": "376a81c5",
   "metadata": {},
   "source": [
    "# Part 2"
   ]
  },
  {
   "cell_type": "markdown",
   "id": "ca5d43e8",
   "metadata": {},
   "source": [
    "Q1: Give a concise and accurate formal statement of the algorithm\n",
    "you use to evaluate the mean response time (i.e., how you\n",
    "conduct the statistical experiment to collect samples of R).\n"
   ]
  },
  {
   "cell_type": "markdown",
   "id": "06ea77bd",
   "metadata": {},
   "source": []
  },
  {
   "cell_type": "markdown",
   "id": "b12b2614",
   "metadata": {},
   "source": [
    "Q2: Plot the mean response time E[R] as a function of N for N\n",
    "ranging between 1 and 10000.\n",
    "- Let Rbaseline be the response time in case only server A is used, i.e., the job is run locally on A.\n",
    "- In the plot normalize E[R] with respect to E[Rbaseline]"
   ]
  },
  {
   "cell_type": "code",
   "execution_count": 2,
   "id": "9bcafa54",
   "metadata": {},
   "outputs": [],
   "source": [
    "# link capacity in Gbit/s\n",
    "C = 10 * (10**9)\n",
    "# transmission time of each packet in µs\n",
    "tau = 5 * (10**(-6)) \n",
    "# input file size in TB\n",
    "Lf = 4 * (10**12) \n",
    "# output file size in TB\n",
    "Lo = 4 * (10**12) \n",
    "# expected time the server takes to process a packet in seconds\n",
    "E_X = 8 * 3600 \n",
    "# fixed processing time in seconds\n",
    "T_0 = 30 \n",
    "# protocol overhead factor\n",
    "xi = 0.1 \n",
    "# arrival rate of packets\n",
    "f = 48/1500 \n",
    "# number of packets that can be in transit at any given time\n",
    "n = 64 "
   ]
  },
  {
   "attachments": {},
   "cell_type": "markdown",
   "id": "72f316c7",
   "metadata": {},
   "source": [
    "To calculate the mean response time, we need to consider:\n",
    "-  the time taken by each server to process its task;\n",
    "-  the time taken to transfer the data from server A to the N servers;\n",
    "- the time taken to transfer the output data from each server to server A. \n",
    "\n",
    "The total time can be calculated as follows:\n",
    "\n",
    "E[R] = T_0 + Xi + [Lf/(θ_i * N)] + [Lo,i/(θ_i * N)]\n",
    "\n",
    "where:\n",
    "- T_0 + Xi is the task time and Xi is a negative exponential random variable with mean E[Xi] = E[X]/N;\n",
    "- [Lf/(θ_i * N)] is the time taken to trasfer the data from server A to server i where Lf represents the size of the input, θ_i is is the processing time of the single server;\n",
    "- [Lo,i/(θ_i * N)] is the time taken to tasfer the data from server i to server A where Lo,i represents the size of\n",
    "the output, θ_i is is the processing time of the single server."
   ]
  },
  {
   "cell_type": "code",
   "execution_count": 9,
   "id": "da0f9282",
   "metadata": {},
   "outputs": [
    {
     "data": {
      "image/png": "[encoded data removed]",
      "text/plain": [
       "<Figure size 432x288 with 1 Axes>"
      ]
     },
     "metadata": {
      "needs_background": "light"
     },
     "output_type": "display_data"
    }
   ],
   "source": [
    "def compute_TCP_connection(h):\n",
    "    T_i = 2 * tau * h\n",
    "    theta_i = C * (1/T_i) / np.sum(1/T_i)\n",
    "    return theta_i\n",
    "\n",
    "def compute_mean_response_time(N):\n",
    "    hops = range(1, N+1)\n",
    "    throughputs = [compute_TCP_connection(h) for h in hops]\n",
    "    Xi = E_X/N\n",
    "    Lf_i = Lf / N\n",
    "    Lo_i = Lo / N\n",
    "    times = []\n",
    "    for theta_i in throughputs:\n",
    "     time_input = Lf_i / (theta_i * N) # total time the server takes to process all incoming data\n",
    "     time_output = Lo_i / (theta_i * N) # total time the server takes to process all outgoing data\n",
    "     times.append(T_0 + Xi + time_input + time_output) \n",
    "     \n",
    "    return max(times)\n",
    "\n",
    "N_values = range(1, 10001)\n",
    "mean_response_time = [compute_mean_response_time(N) for N in N_values]\n",
    "# ER_baseline is the response time when only server A is used, N = 1\n",
    "ER_baseline = T_0 + E_X + Lf / (compute_TCP_connection(1) * N_values[0]) + Lo / (compute_TCP_connection(1) * N_values[0]) \n",
    "mean_response_time_norm = [ER / ER_baseline for ER in mean_response_time]\n",
    "\n",
    "plt.plot(N_values, mean_response_time_norm)\n",
    "plt.xlabel('Number of servers N')\n",
    "plt.ylabel('Mean response time normalized')\n",
    "plt.title('Mean response time as a function of N')\n",
    "plt.show()"
   ]
  },
  {
   "cell_type": "code",
   "execution_count": null,
   "id": "717dce0e",
   "metadata": {},
   "outputs": [],
   "source": []
  }
 ],
 "metadata": {
  "kernelspec": {
   "display_name": "Python 3 (ipykernel)",
   "language": "python",
   "name": "python3"
  },
  "language_info": {
   "codemirror_mode": {
    "name": "ipython",
    "version": 3
   },
   "file_extension": ".py",
   "mimetype": "text/x-python",
   "name": "python",
   "nbconvert_exporter": "python",
   "pygments_lexer": "ipython3",
   "version": "3.9.12"
  }
 },
 "nbformat": 4,
 "nbformat_minor": 5
}
