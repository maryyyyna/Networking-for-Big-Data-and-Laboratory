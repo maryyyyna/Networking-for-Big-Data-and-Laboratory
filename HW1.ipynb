{
 "cells": [
  {
   "attachments": {},
   "cell_type": "markdown",
   "id": "aba93094",
   "metadata": {},
   "source": [
    "# Part 1"
   ]
  },
  {
   "attachments": {},
   "cell_type": "markdown",
   "id": "2b5bd5e9",
   "metadata": {},
   "source": [
    "Q1: Use library scripts to generate p-ER random graphs and\n",
    "r-regular random graph. Let K denote the number of nodes."
   ]
  },
  {
   "cell_type": "code",
   "execution_count": 1,
   "id": "6132fa80",
   "metadata": {},
   "outputs": [],
   "source": [
    "import networkx as nx\n",
    "import numpy as np\n",
    "import scipy"
   ]
  },
  {
   "cell_type": "code",
   "execution_count": 2,
   "id": "dceaf1be-07fe-43a9-ba4d-80460be1d794",
   "metadata": {},
   "outputs": [],
   "source": [
    "def g_ER(K,p): #an ars is included with probability p independently of any other arc\n",
    "    G_p = nx.erdos_renyi_graph(K, p)\n",
    "    return(G_p)\n",
    "def g_r(K,r): # K>r>=3 AND Kr is EVEN\n",
    "    G_r = nx.random_regular_graph(r,K)  \n",
    "    return(G_r)"
   ]
  },
  {
   "attachments": {},
   "cell_type": "markdown",
   "id": "a9a47d5f",
   "metadata": {},
   "source": [
    "Q2: Write a script to check the connectivity of a given graph."
   ]
  },
  {
   "attachments": {},
   "cell_type": "markdown",
   "id": "d4c4b8b3",
   "metadata": {},
   "source": [
    "1. Algebraic method 1 (irreducibility)"
   ]
  },
  {
   "cell_type": "code",
   "execution_count": 23,
   "id": "57a70d27-d8be-47d9-b190-605c8bb69842",
   "metadata": {},
   "outputs": [],
   "source": [
    "def connectivity_irreducible(G):\n",
    "    A= nx.adjacency_matrix(G).toarray()\n",
    "    n=A.shape[0]\n",
    "    sum_matrix=np.linalg.matrix_power(np.add(np.eye(n),A),n-1)\n",
    "    if np.all(sum_matrix >0): \n",
    "        return(True)\n",
    "    else:\n",
    "        return(False)\n",
    "# REFERENCE ABOUT THE THEORY: \n",
    "# https://math.stackexchange.com/questions/315453/how-does-one-show-a-matrix-is-irreducible-and-reducible\n"
   ]
  },
  {
   "attachments": {},
   "cell_type": "markdown",
   "id": "dfa97398",
   "metadata": {},
   "source": [
    "2. Algebraic method 2 (eigenvalue of the Laplacian matrix)"
   ]
  },
  {
   "cell_type": "code",
   "execution_count": null,
   "id": "99ae0573",
   "metadata": {},
   "outputs": [],
   "source": []
  },
  {
   "attachments": {},
   "cell_type": "markdown",
   "id": "ad952f25",
   "metadata": {},
   "source": [
    "3. Breadth-first search algorithm"
   ]
  },
  {
   "cell_type": "code",
   "execution_count": 24,
   "id": "175c1029-d252-4801-8aaf-f0c9572c1c9d",
   "metadata": {},
   "outputs": [],
   "source": [
    "# Check the connectivity of a given graph using breadth-first search algorithm\n",
    "import queue\n",
    "\n",
    "def BFS(G, root):\n",
    "    distance = {}\n",
    "    parent = {}\n",
    "    for n in G:\n",
    "        distance[n] = float('inf')\n",
    "        parent[n] = []\n",
    "    \n",
    "    Q = queue.Queue()\n",
    "    distance[root] = 0\n",
    "    Q.put(root)\n",
    "    while Q.empty() != True:\n",
    "        current = Q.get()\n",
    "        neighbors = G.neighbors(current)\n",
    "        for n in neighbors:\n",
    "            if distance[n] == float('inf'):\n",
    "                distance[n] = distance[current] + 1\n",
    "                parent[n] = current\n",
    "                Q.put(n)\n",
    "    \n",
    "    return distance\n",
    "\n",
    "\n",
    "def check_connectivity_BFS(G, root): \n",
    "    distance = BFS(G, root)\n",
    "    for node in distance:\n",
    "        # if we find some node distance equal to infinity, it means that the node is not reachable \n",
    "        # so the graph is also not connected\n",
    "        if distance[node] == float('inf'):  \n",
    "            return \"The graph is not connected.\"\n",
    "        \n",
    "    return \"The graph is connected.\""
   ]
  },
  {
   "cell_type": "code",
   "execution_count": 25,
   "id": "bac31a1d-c2dc-4e2e-a476-98f7117361aa",
   "metadata": {},
   "outputs": [],
   "source": [
    "G=nx.erdos_renyi_graph(100, 0.2)"
   ]
  },
  {
   "cell_type": "code",
   "execution_count": 26,
   "id": "c9aad6c3-05d7-4044-a433-36164ad6237a",
   "metadata": {},
   "outputs": [
    {
     "name": "stdout",
     "output_type": "stream",
     "text": [
      "is_connect: True\n",
      "irreducibility: True\n",
      "BFS: The graph is connected.\n"
     ]
    },
    {
     "name": "stderr",
     "output_type": "stream",
     "text": [
      "C:\\Users\\Marina\\AppData\\Local\\Temp\\ipykernel_12548\\3957628656.py:2: FutureWarning: adjacency_matrix will return a scipy.sparse array instead of a matrix in Networkx 3.0.\n",
      "  A= nx.adjacency_matrix(G).toarray()\n"
     ]
    }
   ],
   "source": [
    "print('is_connect:',nx.is_connected(G))\n",
    "print('irreducibility:',connectivity_irreducible(G))\n",
    "print('BFS:',check_connectivity_BFS(G,0))"
   ]
  },
  {
   "cell_type": "code",
   "execution_count": null,
   "id": "249fe49e",
   "metadata": {},
   "outputs": [],
   "source": []
  },
  {
   "attachments": {},
   "cell_type": "markdown",
   "id": "f8918330",
   "metadata": {},
   "source": [
    "Q3: Compare the complexity as a function of K of the methods\n",
    "above by plotting curves of a complexity measure vs K."
   ]
  },
  {
   "attachments": {},
   "cell_type": "markdown",
   "id": "55b5f464",
   "metadata": {},
   "source": [
    "Q4: Let pc (G) denote the probability that a graph G is connected.\n",
    "By running Monte Carlo simulations, estimate pc (G) and\n",
    "produce two curve plots:\n",
    "- pc (G) vs. p for Erd˝os-R´enyi graphs with K = 100;\n",
    "- pc (G) vs. K, for K ≤ 100, for r-regular random graphs with r = 2 and r = 8.\n"
   ]
  },
  {
   "attachments": {},
   "cell_type": "markdown",
   "id": "376a81c5",
   "metadata": {},
   "source": [
    "# Part 2"
   ]
  },
  {
   "attachments": {},
   "cell_type": "markdown",
   "id": "ca5d43e8",
   "metadata": {},
   "source": [
    "Q1: Give a concise and accurate formal statement of the algorithm\n",
    "you use to evaluate the mean response time (i.e., how you\n",
    "conduct the statistical experiment to collect samples of R).\n"
   ]
  },
  {
   "cell_type": "markdown",
   "id": "06ea77bd",
   "metadata": {},
   "source": []
  },
  {
   "attachments": {},
   "cell_type": "markdown",
   "id": "b12b2614",
   "metadata": {},
   "source": [
    "Q2: Plot the mean response time E[R] as a function of N for N\n",
    "ranging between 1 and 10000.\n",
    "- Let Rbaseline be the response time in case only server A is used, i.e., the job is run locally on A.\n",
    "- In the plot normalize E[R] with respect to E[Rbaseline]"
   ]
  },
  {
   "cell_type": "code",
   "execution_count": null,
   "id": "04499e1a",
   "metadata": {},
   "outputs": [],
   "source": []
  },
  {
   "cell_type": "code",
   "execution_count": null,
   "id": "eff0c483",
   "metadata": {},
   "outputs": [],
   "source": []
  }
 ],
 "metadata": {
  "kernelspec": {
   "display_name": "Python 3 (ipykernel)",
   "language": "python",
   "name": "python3"
  },
  "language_info": {
   "codemirror_mode": {
    "name": "ipython",
    "version": 3
   },
   "file_extension": ".py",
   "mimetype": "text/x-python",
   "name": "python",
   "nbconvert_exporter": "python",
   "pygments_lexer": "ipython3",
   "version": "3.9.12"
  }
 },
 "nbformat": 4,
 "nbformat_minor": 5
}
